{
 "cells": [
  {
   "cell_type": "code",
   "execution_count": 1,
   "metadata": {},
   "outputs": [
    {
     "name": "stdout",
     "output_type": "stream",
     "text": [
      "WARNING:tensorflow:From c:\\Users\\shara\\OneDrive\\Desktop\\AML\\IM_Resize\\.venv\\Lib\\site-packages\\keras\\src\\losses.py:2976: The name tf.losses.sparse_softmax_cross_entropy is deprecated. Please use tf.compat.v1.losses.sparse_softmax_cross_entropy instead.\n",
      "\n"
     ]
    }
   ],
   "source": [
    "import pandas as pd\n",
    "import numpy as np\n",
    "\n",
    "import cv2\n",
    "import os\n",
    "import random\n",
    "from PIL import Image\n",
    "from tqdm import tqdm\n",
    "from sklearn.preprocessing import LabelBinarizer\n",
    "from sklearn.model_selection import train_test_split\n",
    "\n",
    "import tensorflow as tf"
   ]
  },
  {
   "cell_type": "code",
   "execution_count": 12,
   "metadata": {},
   "outputs": [
    {
     "name": "stderr",
     "output_type": "stream",
     "text": [
      "100%|██████████| 20000/20000 [1:50:10<00:00,  3.03it/s]\n"
     ]
    }
   ],
   "source": [
    "images_list = []\n",
    "hotel_list = [10129, 310173]\n",
    "for hotel in hotel_list:\n",
    "    l = len(os.listdir(f\"AML/HotelTraffickingData/horizaontal/train/{hotel}/\"))\n",
    "    for i in range(l):\n",
    "        data = (f\"AML/HotelTraffickingData/horizaontal/train/{hotel}/{i}.png\", f\"AML/HotelTraffickingData/vertical/train/{hotel}/{i}.png\", hotel)\n",
    "        images_list.append(data)\n",
    "\n",
    "for hotel in hotel_list:\n",
    "    l = len(os.listdir(f\"AML/HotelTraffickingData/horizaontal/val/{hotel}/\"))\n",
    "    for i in range(l):\n",
    "        data = (f\"AML/HotelTraffickingData/horizaontal/val/{hotel}/{i}.png\", f\"AML/HotelTraffickingData/vertical/val/{hotel}/{i}.png\", hotel)\n",
    "        images_list.append(data)\n",
    "\n",
    "for hotel in hotel_list:\n",
    "    l = len(os.listdir(f\"AML/HotelTraffickingData/horizaontal/test/{hotel}/\"))\n",
    "    for i in range(l):\n",
    "        data = (f\"AML/HotelTraffickingData/horizaontal/test/{hotel}/{i}.png\", f\"AML/HotelTraffickingData/vertical/test/{hotel}/{i}.png\", hotel)\n",
    "        images_list.append(data)\n",
    "\n",
    "random.shuffle(images_list)\n",
    "\n",
    "try:\n",
    "    os.mkdir(\"AML/HotelTraffickingData/New Data/\")\n",
    "    os.mkdir(\"AML/HotelTraffickingData/New Data/train\")\n",
    "    os.mkdir(\"AML/HotelTraffickingData/New Data/val\")\n",
    "    os.mkdir(\"AML/HotelTraffickingData/New Data/test\")\n",
    "except FileExistsError:\n",
    "    pass\n",
    "\n",
    "for hotel in hotel_list:\n",
    "    try:\n",
    "        os.mkdir(f\"AML/HotelTraffickingData/New Data/train/{hotel}\")\n",
    "        os.mkdir(f\"AML/HotelTraffickingData/New Data/val/{hotel}\")\n",
    "        os.mkdir(f\"AML/HotelTraffickingData/New Data/test/{hotel}\")\n",
    "    except FileExistsError:\n",
    "        pass\n",
    "\n",
    "for images in tqdm(images_list):\n",
    "    image_p1, image_p2, label = images\n",
    "    # print(images)\n",
    "    im1 = Image.open(image_p1)\n",
    "    im2 = Image.open(image_p2)\n",
    "    image = Image.blend(im1, im2, 0.5)\n",
    "\n",
    "    image_p1 = image_p1.split(\"/\")\n",
    "    h = image_p1[-2] \n",
    "    n = image_p1[-1].split(\".\")[0]\n",
    "    k = image_p1[-3]\n",
    "\n",
    "    image.save(f\"AML/HotelTraffickingData/New Data/{k}/{h}/{n}.png\")\n",
    "    image = cv2.imread(f\"AML/HotelTraffickingData/New Data/{k}/{h}/{n}.png\")\n",
    "    image = cv2.resize(image, (256, 256))\n",
    "    cv2.imwrite(f\"AML/HotelTraffickingData/New Data/{k}/{h}/{n}.png\", image)"
   ]
  },
  {
   "cell_type": "code",
   "execution_count": 2,
   "metadata": {},
   "outputs": [
    {
     "name": "stdout",
     "output_type": "stream",
     "text": [
      "Found 13600 files belonging to 2 classes.\n",
      "Found 2400 files belonging to 2 classes.\n",
      "Found 4000 files belonging to 2 classes.\n"
     ]
    }
   ],
   "source": [
    "train_ds = tf.keras.preprocessing.image_dataset_from_directory(\n",
    "  \"AML/HotelTraffickingData/New Data/train\",\n",
    "  image_size=(256, 256),\n",
    "  batch_size=32,\n",
    "  labels='inferred',\n",
    "  label_mode='int'\n",
    ")\n",
    "\n",
    "val_ds= tf.keras.preprocessing.image_dataset_from_directory(\n",
    "  \"AML/HotelTraffickingData/New Data/val\",\n",
    "  image_size=(256, 256),\n",
    "  batch_size=32,\n",
    "  labels='inferred',\n",
    "  label_mode='int'\n",
    ")\n",
    "\n",
    "test_ds = tf.keras.preprocessing.image_dataset_from_directory(\n",
    "  \"AML/HotelTraffickingData/New Data/test\",\n",
    "  image_size=(256, 256),\n",
    "  batch_size=32,\n",
    "  labels='inferred',\n",
    "  label_mode='int'\n",
    ")"
   ]
  },
  {
   "cell_type": "code",
   "execution_count": 3,
   "metadata": {},
   "outputs": [
    {
     "name": "stdout",
     "output_type": "stream",
     "text": [
      "WARNING:tensorflow:From c:\\Users\\shara\\OneDrive\\Desktop\\AML\\IM_Resize\\.venv\\Lib\\site-packages\\keras\\src\\backend.py:873: The name tf.get_default_graph is deprecated. Please use tf.compat.v1.get_default_graph instead.\n",
      "\n",
      "WARNING:tensorflow:From c:\\Users\\shara\\OneDrive\\Desktop\\AML\\IM_Resize\\.venv\\Lib\\site-packages\\keras\\src\\layers\\pooling\\max_pooling2d.py:161: The name tf.nn.max_pool is deprecated. Please use tf.nn.max_pool2d instead.\n",
      "\n",
      "You must install pydot (`pip install pydot`) and install graphviz (see instructions at https://graphviz.gitlab.io/download/) for plot_model to work.\n"
     ]
    }
   ],
   "source": [
    "model = tf.keras.Sequential([\n",
    "    tf.keras.layers.Conv2D(filters=64, kernel_size=(3, 3), activation='relu', input_shape=(256, 256, 3)),\n",
    "    tf.keras.layers.Conv2D(filters=64, kernel_size=(3, 3), activation='relu'),\n",
    "    tf.keras.layers.Conv2D(filters=64, kernel_size=(3, 3), activation='relu'),\n",
    "\n",
    "    tf.keras.layers.MaxPooling2D(strides=(2, 2)),\n",
    "    tf.keras.layers.Dropout(0.5),\n",
    "\n",
    "    tf.keras.layers.Conv2D(filters=128, kernel_size=(3, 3), activation='relu'),\n",
    "    tf.keras.layers.Conv2D(filters=128, kernel_size=(3, 3), activation='relu'),\n",
    "    tf.keras.layers.Conv2D(filters=128, kernel_size=(3, 3), activation='relu'),\n",
    "\n",
    "    tf.keras.layers.MaxPooling2D(strides=(2, 2)),\n",
    "    tf.keras.layers.Dropout(0.5),\n",
    "\n",
    "    tf.keras.layers.Conv2D(filters=256, kernel_size=(3, 3), activation='relu'),\n",
    "    tf.keras.layers.Conv2D(filters=256, kernel_size=(3, 3), activation='relu'),\n",
    "    tf.keras.layers.Conv2D(filters=256, kernel_size=(3, 3), activation='relu'),\n",
    "\n",
    "    tf.keras.layers.MaxPooling2D(strides=(2, 2)),\n",
    "    tf.keras.layers.Dropout(0.5),\n",
    "\n",
    "    tf.keras.layers.Flatten(),\n",
    "\n",
    "    tf.keras.layers.Dense(128, activation='relu'),\n",
    "    tf.keras.layers.Dense(2, activation='softmax')\n",
    "])\n",
    "\n",
    "tf.keras.utils.plot_model(model, show_layer_names = False, show_shapes = True)"
   ]
  },
  {
   "cell_type": "code",
   "execution_count": 4,
   "metadata": {},
   "outputs": [
    {
     "name": "stdout",
     "output_type": "stream",
     "text": [
      "WARNING:tensorflow:From c:\\Users\\shara\\OneDrive\\Desktop\\AML\\IM_Resize\\.venv\\Lib\\site-packages\\keras\\src\\optimizers\\__init__.py:309: The name tf.train.Optimizer is deprecated. Please use tf.compat.v1.train.Optimizer instead.\n",
      "\n"
     ]
    }
   ],
   "source": [
    "model.compile(\n",
    "  optimizer='adam',\n",
    "  loss=tf.keras.losses.SparseCategoricalCrossentropy(from_logits=True),\n",
    "  metrics=['Accuracy']\n",
    ")"
   ]
  },
  {
   "cell_type": "code",
   "execution_count": 5,
   "metadata": {},
   "outputs": [
    {
     "name": "stdout",
     "output_type": "stream",
     "text": [
      "Model: \"sequential\"\n",
      "_________________________________________________________________\n",
      " Layer (type)                Output Shape              Param #   \n",
      "=================================================================\n",
      " conv2d (Conv2D)             (None, 254, 254, 64)      1792      \n",
      "                                                                 \n",
      " conv2d_1 (Conv2D)           (None, 252, 252, 64)      36928     \n",
      "                                                                 \n",
      " conv2d_2 (Conv2D)           (None, 250, 250, 64)      36928     \n",
      "                                                                 \n",
      " max_pooling2d (MaxPooling2  (None, 125, 125, 64)      0         \n",
      " D)                                                              \n",
      "                                                                 \n",
      " dropout (Dropout)           (None, 125, 125, 64)      0         \n",
      "                                                                 \n",
      " conv2d_3 (Conv2D)           (None, 123, 123, 128)     73856     \n",
      "                                                                 \n",
      " conv2d_4 (Conv2D)           (None, 121, 121, 128)     147584    \n",
      "                                                                 \n",
      " conv2d_5 (Conv2D)           (None, 119, 119, 128)     147584    \n",
      "                                                                 \n",
      " max_pooling2d_1 (MaxPoolin  (None, 59, 59, 128)       0         \n",
      " g2D)                                                            \n",
      "                                                                 \n",
      " dropout_1 (Dropout)         (None, 59, 59, 128)       0         \n",
      "                                                                 \n",
      " conv2d_6 (Conv2D)           (None, 57, 57, 256)       295168    \n",
      "                                                                 \n",
      " conv2d_7 (Conv2D)           (None, 55, 55, 256)       590080    \n",
      "                                                                 \n",
      " conv2d_8 (Conv2D)           (None, 53, 53, 256)       590080    \n",
      "                                                                 \n",
      " max_pooling2d_2 (MaxPoolin  (None, 26, 26, 256)       0         \n",
      " g2D)                                                            \n",
      "                                                                 \n",
      " dropout_2 (Dropout)         (None, 26, 26, 256)       0         \n",
      "                                                                 \n",
      " flatten (Flatten)           (None, 173056)            0         \n",
      "                                                                 \n",
      " dense (Dense)               (None, 128)               22151296  \n",
      "                                                                 \n",
      " dense_1 (Dense)             (None, 2)                 258       \n",
      "                                                                 \n",
      "=================================================================\n",
      "Total params: 24071554 (91.83 MB)\n",
      "Trainable params: 24071554 (91.83 MB)\n",
      "Non-trainable params: 0 (0.00 Byte)\n",
      "_________________________________________________________________\n"
     ]
    }
   ],
   "source": [
    "model.summary()"
   ]
  },
  {
   "cell_type": "code",
   "execution_count": 6,
   "metadata": {},
   "outputs": [
    {
     "name": "stdout",
     "output_type": "stream",
     "text": [
      "Epoch 1/10\n",
      "WARNING:tensorflow:From c:\\Users\\shara\\OneDrive\\Desktop\\AML\\IM_Resize\\.venv\\Lib\\site-packages\\keras\\src\\utils\\tf_utils.py:492: The name tf.ragged.RaggedTensorValue is deprecated. Please use tf.compat.v1.ragged.RaggedTensorValue instead.\n",
      "\n"
     ]
    },
    {
     "name": "stderr",
     "output_type": "stream",
     "text": [
      "c:\\Users\\shara\\OneDrive\\Desktop\\AML\\IM_Resize\\.venv\\Lib\\site-packages\\keras\\src\\backend.py:5727: UserWarning: \"`sparse_categorical_crossentropy` received `from_logits=True`, but the `output` argument was produced by a Softmax activation and thus does not represent logits. Was this intended?\n",
      "  output, from_logits = _get_logits(\n"
     ]
    },
    {
     "name": "stdout",
     "output_type": "stream",
     "text": [
      "WARNING:tensorflow:From c:\\Users\\shara\\OneDrive\\Desktop\\AML\\IM_Resize\\.venv\\Lib\\site-packages\\keras\\src\\engine\\base_layer_utils.py:384: The name tf.executing_eagerly_outside_functions is deprecated. Please use tf.compat.v1.executing_eagerly_outside_functions instead.\n",
      "\n",
      "425/425 [==============================] - 4238s 10s/step - loss: 4.5429 - Accuracy: 0.8033 - val_loss: 0.2437 - val_Accuracy: 0.8996\n",
      "Epoch 2/10\n",
      "425/425 [==============================] - 3854s 9s/step - loss: 0.1109 - Accuracy: 0.9621 - val_loss: 0.1352 - val_Accuracy: 0.9621\n",
      "Epoch 3/10\n",
      "425/425 [==============================] - 3888s 9s/step - loss: 0.0671 - Accuracy: 0.9787 - val_loss: 0.0542 - val_Accuracy: 0.9792\n",
      "Epoch 4/10\n",
      "425/425 [==============================] - 3880s 9s/step - loss: 0.0458 - Accuracy: 0.9859 - val_loss: 0.0314 - val_Accuracy: 0.9904\n",
      "Epoch 5/10\n",
      "425/425 [==============================] - 3873s 9s/step - loss: 0.0392 - Accuracy: 0.9882 - val_loss: 0.0253 - val_Accuracy: 0.9925\n",
      "Epoch 6/10\n",
      "425/425 [==============================] - 3857s 9s/step - loss: 0.0360 - Accuracy: 0.9887 - val_loss: 0.0151 - val_Accuracy: 0.9962\n",
      "Epoch 7/10\n",
      "425/425 [==============================] - 3849s 9s/step - loss: 0.0343 - Accuracy: 0.9890 - val_loss: 0.0398 - val_Accuracy: 0.9854\n",
      "Epoch 8/10\n",
      "425/425 [==============================] - 3847s 9s/step - loss: 0.0260 - Accuracy: 0.9929 - val_loss: 0.0395 - val_Accuracy: 0.9887\n",
      "Epoch 9/10\n",
      "425/425 [==============================] - 3859s 9s/step - loss: 0.0312 - Accuracy: 0.9911 - val_loss: 0.0439 - val_Accuracy: 0.9846\n",
      "Epoch 10/10\n",
      "425/425 [==============================] - 3848s 9s/step - loss: 0.0329 - Accuracy: 0.9904 - val_loss: 0.0989 - val_Accuracy: 0.9671\n"
     ]
    }
   ],
   "source": [
    "epochs=10\n",
    "callback = tf.keras.callbacks.EarlyStopping(monitor='loss', patience=3)\n",
    "history = model.fit(\n",
    "  train_ds,\n",
    "  validation_data=val_ds,\n",
    "  epochs=epochs,\n",
    "  callbacks=[callback]\n",
    ")"
   ]
  },
  {
   "cell_type": "code",
   "execution_count": 7,
   "metadata": {},
   "outputs": [
    {
     "name": "stdout",
     "output_type": "stream",
     "text": [
      "INFO:tensorflow:Assets written to: model.tf\\assets\n"
     ]
    },
    {
     "name": "stderr",
     "output_type": "stream",
     "text": [
      "INFO:tensorflow:Assets written to: model.tf\\assets\n"
     ]
    }
   ],
   "source": [
    "model.save(\"model.tf\")"
   ]
  },
  {
   "cell_type": "code",
   "execution_count": 8,
   "metadata": {},
   "outputs": [
    {
     "name": "stdout",
     "output_type": "stream",
     "text": [
      "125/125 [==============================] - 202s 2s/step\n"
     ]
    }
   ],
   "source": [
    "output = model.predict(test_ds)"
   ]
  },
  {
   "cell_type": "code",
   "execution_count": 10,
   "metadata": {},
   "outputs": [
    {
     "data": {
      "text/plain": [
       "array([0, 1, 0, ..., 1, 1, 0], dtype=int64)"
      ]
     },
     "execution_count": 10,
     "metadata": {},
     "output_type": "execute_result"
    }
   ],
   "source": [
    "np.argmax(output, axis = 1)"
   ]
  },
  {
   "cell_type": "code",
   "execution_count": 9,
   "metadata": {},
   "outputs": [
    {
     "data": {
      "text/plain": [
       "array([[7.9811025e-01, 2.0188972e-01],\n",
       "       [1.7720664e-06, 9.9999821e-01],\n",
       "       [9.0740019e-01, 9.2599832e-02],\n",
       "       ...,\n",
       "       [9.4612013e-04, 9.9905390e-01],\n",
       "       [4.7908141e-04, 9.9952090e-01],\n",
       "       [9.9995947e-01, 4.0517774e-05]], dtype=float32)"
      ]
     },
     "execution_count": 9,
     "metadata": {},
     "output_type": "execute_result"
    }
   ],
   "source": [
    "output"
   ]
  },
  {
   "cell_type": "code",
   "execution_count": 12,
   "metadata": {},
   "outputs": [
    {
     "data": {
      "text/plain": [
       "['10129', '310173']"
      ]
     },
     "execution_count": 12,
     "metadata": {},
     "output_type": "execute_result"
    }
   ],
   "source": [
    "test_ds.class_names"
   ]
  },
  {
   "cell_type": "code",
   "execution_count": 27,
   "metadata": {},
   "outputs": [
    {
     "name": "stdout",
     "output_type": "stream",
     "text": [
      "1/1 [==============================] - 2s 2s/step\n",
      "1/1 [==============================] - 2s 2s/step\n",
      "1/1 [==============================] - 2s 2s/step\n",
      "1/1 [==============================] - 2s 2s/step\n",
      "1/1 [==============================] - 2s 2s/step\n",
      "1/1 [==============================] - 2s 2s/step\n",
      "1/1 [==============================] - 2s 2s/step\n",
      "1/1 [==============================] - 2s 2s/step\n",
      "1/1 [==============================] - 2s 2s/step\n",
      "1/1 [==============================] - 2s 2s/step\n",
      "1/1 [==============================] - 1s 1s/step\n",
      "1/1 [==============================] - 2s 2s/step\n",
      "1/1 [==============================] - 2s 2s/step\n",
      "1/1 [==============================] - 2s 2s/step\n",
      "1/1 [==============================] - 1s 1s/step\n",
      "1/1 [==============================] - 2s 2s/step\n",
      "1/1 [==============================] - 2s 2s/step\n",
      "1/1 [==============================] - 2s 2s/step\n",
      "1/1 [==============================] - 2s 2s/step\n",
      "1/1 [==============================] - 2s 2s/step\n",
      "1/1 [==============================] - 2s 2s/step\n",
      "1/1 [==============================] - 2s 2s/step\n",
      "1/1 [==============================] - 2s 2s/step\n",
      "1/1 [==============================] - 1s 1s/step\n",
      "1/1 [==============================] - 1s 1s/step\n",
      "1/1 [==============================] - 2s 2s/step\n",
      "1/1 [==============================] - 1s 1s/step\n",
      "1/1 [==============================] - 2s 2s/step\n",
      "1/1 [==============================] - 2s 2s/step\n",
      "1/1 [==============================] - 2s 2s/step\n",
      "1/1 [==============================] - 2s 2s/step\n",
      "1/1 [==============================] - 2s 2s/step\n",
      "1/1 [==============================] - 2s 2s/step\n",
      "1/1 [==============================] - 2s 2s/step\n",
      "1/1 [==============================] - 2s 2s/step\n",
      "1/1 [==============================] - 2s 2s/step\n",
      "1/1 [==============================] - 2s 2s/step\n",
      "1/1 [==============================] - 1s 1s/step\n",
      "1/1 [==============================] - 2s 2s/step\n",
      "1/1 [==============================] - 2s 2s/step\n",
      "1/1 [==============================] - 2s 2s/step\n",
      "1/1 [==============================] - 2s 2s/step\n",
      "1/1 [==============================] - 2s 2s/step\n",
      "1/1 [==============================] - 1s 1s/step\n",
      "1/1 [==============================] - 1s 1s/step\n",
      "1/1 [==============================] - 1s 1s/step\n",
      "1/1 [==============================] - 2s 2s/step\n",
      "1/1 [==============================] - 2s 2s/step\n",
      "1/1 [==============================] - 1s 1s/step\n",
      "1/1 [==============================] - 2s 2s/step\n",
      "1/1 [==============================] - 2s 2s/step\n",
      "1/1 [==============================] - 2s 2s/step\n",
      "1/1 [==============================] - 1s 1s/step\n",
      "1/1 [==============================] - 1s 1s/step\n",
      "1/1 [==============================] - 1s 1s/step\n",
      "1/1 [==============================] - 1s 1s/step\n",
      "1/1 [==============================] - 1s 1s/step\n",
      "1/1 [==============================] - 2s 2s/step\n",
      "1/1 [==============================] - 2s 2s/step\n",
      "1/1 [==============================] - 2s 2s/step\n",
      "1/1 [==============================] - 1s 1s/step\n",
      "1/1 [==============================] - 2s 2s/step\n",
      "1/1 [==============================] - 2s 2s/step\n",
      "1/1 [==============================] - 2s 2s/step\n",
      "1/1 [==============================] - 2s 2s/step\n",
      "1/1 [==============================] - 2s 2s/step\n",
      "1/1 [==============================] - 2s 2s/step\n",
      "1/1 [==============================] - 1s 1s/step\n",
      "1/1 [==============================] - 1s 1s/step\n",
      "1/1 [==============================] - 1s 1s/step\n",
      "1/1 [==============================] - 2s 2s/step\n",
      "1/1 [==============================] - 2s 2s/step\n",
      "1/1 [==============================] - 2s 2s/step\n",
      "1/1 [==============================] - 1s 1s/step\n",
      "1/1 [==============================] - 2s 2s/step\n",
      "1/1 [==============================] - 1s 1s/step\n",
      "1/1 [==============================] - 1s 1s/step\n",
      "1/1 [==============================] - 1s 1s/step\n",
      "1/1 [==============================] - 1s 1s/step\n",
      "1/1 [==============================] - 2s 2s/step\n",
      "1/1 [==============================] - 2s 2s/step\n",
      "1/1 [==============================] - 2s 2s/step\n",
      "1/1 [==============================] - 2s 2s/step\n",
      "1/1 [==============================] - 2s 2s/step\n",
      "1/1 [==============================] - 1s 1s/step\n",
      "1/1 [==============================] - 1s 1s/step\n",
      "1/1 [==============================] - 2s 2s/step\n",
      "1/1 [==============================] - 2s 2s/step\n",
      "1/1 [==============================] - 2s 2s/step\n",
      "1/1 [==============================] - 2s 2s/step\n",
      "1/1 [==============================] - 1s 1s/step\n",
      "1/1 [==============================] - 2s 2s/step\n",
      "1/1 [==============================] - 2s 2s/step\n",
      "1/1 [==============================] - 2s 2s/step\n",
      "1/1 [==============================] - 2s 2s/step\n",
      "1/1 [==============================] - 1s 1s/step\n",
      "1/1 [==============================] - 1s 1s/step\n",
      "1/1 [==============================] - 2s 2s/step\n",
      "1/1 [==============================] - 1s 1s/step\n",
      "1/1 [==============================] - 2s 2s/step\n",
      "1/1 [==============================] - 1s 1s/step\n",
      "1/1 [==============================] - 1s 1s/step\n",
      "1/1 [==============================] - 1s 1s/step\n",
      "1/1 [==============================] - 1s 1s/step\n",
      "1/1 [==============================] - 2s 2s/step\n",
      "1/1 [==============================] - 1s 1s/step\n",
      "1/1 [==============================] - 1s 1s/step\n",
      "1/1 [==============================] - 2s 2s/step\n",
      "1/1 [==============================] - 2s 2s/step\n",
      "1/1 [==============================] - 2s 2s/step\n",
      "1/1 [==============================] - 1s 1s/step\n",
      "1/1 [==============================] - 2s 2s/step\n",
      "1/1 [==============================] - 2s 2s/step\n",
      "1/1 [==============================] - 2s 2s/step\n",
      "1/1 [==============================] - 1s 1s/step\n",
      "1/1 [==============================] - 2s 2s/step\n",
      "1/1 [==============================] - 2s 2s/step\n",
      "1/1 [==============================] - 2s 2s/step\n",
      "1/1 [==============================] - 2s 2s/step\n",
      "1/1 [==============================] - 2s 2s/step\n",
      "1/1 [==============================] - 2s 2s/step\n",
      "1/1 [==============================] - 2s 2s/step\n",
      "1/1 [==============================] - 2s 2s/step\n",
      "1/1 [==============================] - 1s 1s/step\n",
      "1/1 [==============================] - 1s 1s/step\n",
      "[[array([1, 1, 1, 1, 1, 1, 1, 1, 0, 0, 0, 1, 0, 0, 1, 1, 1, 0, 1, 1, 0, 1,\n",
      "       0, 1, 0, 1, 0, 0, 1, 1, 1, 0], dtype=int64), array([1, 1, 1, 1, 1, 1, 0, 1, 0, 0, 0, 1, 0, 0, 1, 1, 1, 0, 1, 0, 0, 1,\n",
      "       0, 1, 0, 1, 0, 0, 1, 1, 1, 0])], [array([0, 1, 0, 0, 0, 0, 1, 0, 0, 0, 0, 0, 1, 0, 0, 1, 0, 1, 1, 0, 0, 1,\n",
      "       0, 0, 0, 0, 1, 0, 1, 1, 0, 1], dtype=int64), array([0, 0, 0, 0, 0, 0, 1, 0, 0, 0, 0, 0, 1, 0, 0, 1, 0, 1, 1, 0, 0, 1,\n",
      "       0, 0, 0, 0, 1, 0, 1, 1, 0, 1])], [array([0, 1, 1, 0, 0, 1, 0, 0, 0, 1, 1, 1, 1, 0, 1, 0, 0, 0, 1, 1, 1, 0,\n",
      "       0, 1, 1, 0, 1, 0, 0, 1, 1, 1], dtype=int64), array([0, 1, 0, 0, 0, 1, 0, 0, 0, 1, 1, 1, 1, 0, 1, 0, 0, 0, 1, 1, 1, 0,\n",
      "       0, 1, 1, 0, 0, 0, 0, 1, 0, 1])], [array([0, 1, 1, 1, 1, 1, 0, 0, 1, 0, 1, 0, 0, 1, 0, 1, 0, 0, 1, 0, 1, 1,\n",
      "       0, 1, 1, 1, 1, 0, 0, 1, 0, 0], dtype=int64), array([0, 1, 1, 1, 1, 1, 0, 0, 1, 0, 1, 0, 0, 1, 0, 1, 0, 0, 1, 0, 1, 1,\n",
      "       0, 1, 1, 1, 1, 0, 0, 1, 0, 0])], [array([0, 1, 1, 1, 0, 0, 1, 1, 1, 1, 0, 1, 1, 0, 1, 1, 1, 1, 1, 1, 0, 0,\n",
      "       0, 0, 0, 1, 0, 0, 1, 0, 1, 1], dtype=int64), array([0, 1, 1, 1, 0, 0, 1, 1, 1, 1, 0, 1, 1, 0, 1, 1, 1, 1, 1, 1, 0, 0,\n",
      "       0, 0, 0, 1, 0, 0, 1, 0, 1, 1])], [array([0, 1, 0, 0, 1, 1, 0, 1, 1, 0, 1, 1, 0, 1, 0, 0, 0, 1, 0, 1, 0, 1,\n",
      "       1, 1, 0, 0, 1, 0, 0, 0, 1, 0], dtype=int64), array([0, 1, 0, 0, 1, 1, 0, 1, 1, 0, 1, 1, 0, 1, 0, 0, 0, 1, 0, 1, 0, 1,\n",
      "       1, 1, 0, 0, 1, 0, 0, 0, 1, 0])], [array([0, 0, 1, 0, 1, 1, 0, 0, 1, 0, 0, 1, 0, 1, 1, 1, 0, 1, 0, 0, 0, 0,\n",
      "       0, 1, 1, 0, 0, 1, 1, 1, 1, 1], dtype=int64), array([0, 0, 1, 0, 0, 1, 0, 0, 1, 0, 0, 1, 0, 1, 1, 1, 0, 0, 0, 0, 0, 0,\n",
      "       0, 1, 0, 0, 0, 1, 1, 1, 1, 1])], [array([1, 0, 0, 1, 1, 1, 1, 1, 0, 0, 1, 1, 1, 1, 1, 0, 0, 1, 1, 1, 0, 1,\n",
      "       0, 0, 0, 1, 1, 0, 0, 1, 0, 0], dtype=int64), array([1, 0, 0, 1, 1, 1, 1, 1, 0, 0, 1, 1, 1, 0, 1, 0, 0, 1, 1, 1, 0, 1,\n",
      "       0, 0, 0, 1, 1, 0, 0, 1, 0, 0])], [array([1, 0, 0, 0, 1, 1, 1, 0, 1, 0, 1, 1, 0, 0, 1, 1, 1, 0, 1, 1, 0, 1,\n",
      "       0, 0, 0, 1, 1, 0, 0, 0, 1, 0], dtype=int64), array([1, 0, 0, 0, 1, 1, 1, 0, 1, 0, 1, 0, 0, 0, 1, 1, 1, 0, 1, 1, 0, 1,\n",
      "       0, 0, 0, 0, 1, 0, 0, 0, 1, 0])], [array([1, 1, 0, 1, 1, 0, 1, 0, 1, 0, 1, 0, 0, 1, 0, 1, 0, 1, 0, 1, 0, 1,\n",
      "       0, 0, 0, 1, 0, 1, 1, 1, 0, 1], dtype=int64), array([0, 1, 0, 1, 1, 0, 0, 0, 1, 0, 1, 0, 0, 1, 0, 1, 0, 1, 0, 1, 0, 1,\n",
      "       0, 0, 0, 1, 0, 1, 1, 1, 0, 1])], [array([1, 1, 1, 0, 1, 1, 0, 0, 0, 0, 1, 1, 1, 0, 0, 1, 1, 0, 0, 0, 0, 0,\n",
      "       0, 1, 1, 1, 1, 1, 0, 0, 0, 0], dtype=int64), array([1, 1, 0, 0, 1, 1, 0, 0, 0, 0, 1, 1, 1, 0, 0, 1, 1, 0, 0, 0, 0, 0,\n",
      "       0, 1, 1, 1, 1, 1, 0, 0, 0, 0])], [array([1, 0, 1, 0, 1, 0, 0, 1, 1, 1, 1, 0, 1, 0, 1, 0, 0, 1, 1, 0, 1, 0,\n",
      "       1, 0, 0, 0, 0, 1, 0, 0, 1, 1], dtype=int64), array([0, 0, 1, 0, 1, 0, 0, 1, 1, 1, 1, 0, 1, 0, 1, 0, 0, 1, 1, 0, 1, 0,\n",
      "       1, 0, 0, 0, 0, 0, 0, 0, 1, 0])], [array([0, 1, 0, 1, 0, 1, 0, 0, 1, 1, 1, 1, 0, 0, 0, 1, 1, 1, 1, 1, 1, 1,\n",
      "       0, 1, 0, 0, 1, 0, 1, 1, 1, 1], dtype=int64), array([0, 1, 0, 1, 0, 1, 0, 0, 0, 1, 1, 1, 0, 0, 0, 1, 1, 0, 1, 1, 1, 1,\n",
      "       0, 1, 0, 0, 1, 0, 1, 1, 1, 1])], [array([1, 0, 0, 1, 0, 0, 0, 1, 0, 0, 1, 1, 0, 0, 0, 0, 0, 0, 1, 0, 1, 0,\n",
      "       0, 0, 1, 0, 1, 0, 1, 0, 0, 1], dtype=int64), array([1, 0, 0, 1, 0, 0, 0, 1, 0, 0, 1, 1, 0, 0, 0, 0, 0, 0, 1, 0, 1, 0,\n",
      "       0, 0, 1, 0, 1, 0, 0, 0, 0, 1])], [array([0, 1, 0, 0, 1, 1, 1, 1, 1, 0, 1, 1, 1, 0, 0, 0, 0, 1, 0, 0, 1, 0,\n",
      "       1, 0, 1, 0, 0, 1, 1, 1, 1, 0], dtype=int64), array([0, 1, 0, 0, 1, 1, 1, 1, 1, 0, 1, 1, 1, 0, 0, 0, 0, 1, 0, 0, 1, 0,\n",
      "       1, 0, 0, 0, 0, 1, 1, 1, 1, 0])], [array([0, 0, 1, 0, 1, 1, 1, 0, 0, 0, 1, 1, 0, 1, 1, 0, 1, 0, 1, 0, 0, 0,\n",
      "       1, 0, 1, 0, 1, 0, 1, 1, 0, 1], dtype=int64), array([0, 0, 1, 0, 1, 1, 1, 0, 0, 0, 1, 1, 0, 1, 1, 0, 1, 0, 1, 0, 0, 0,\n",
      "       1, 0, 1, 0, 0, 0, 1, 1, 0, 1])], [array([0, 1, 1, 1, 1, 1, 1, 1, 0, 1, 1, 1, 1, 1, 0, 1, 1, 0, 0, 1, 0, 1,\n",
      "       0, 1, 0, 0, 1, 1, 0, 1, 1, 1], dtype=int64), array([0, 1, 1, 1, 1, 1, 0, 1, 0, 1, 0, 1, 1, 1, 0, 1, 1, 0, 0, 1, 0, 1,\n",
      "       0, 1, 0, 0, 1, 1, 0, 1, 1, 1])], [array([1, 1, 1, 0, 1, 1, 0, 1, 1, 1, 1, 1, 1, 0, 0, 0, 0, 1, 0, 1, 0, 1,\n",
      "       0, 1, 0, 1, 1, 1, 0, 1, 1, 0], dtype=int64), array([1, 1, 1, 0, 1, 1, 0, 1, 1, 1, 1, 1, 1, 0, 0, 0, 0, 1, 0, 1, 0, 0,\n",
      "       0, 0, 0, 1, 1, 0, 0, 1, 1, 0])], [array([0, 1, 1, 0, 1, 0, 1, 1, 0, 0, 0, 0, 0, 1, 1, 1, 0, 0, 1, 1, 1, 0,\n",
      "       0, 1, 1, 0, 1, 1, 0, 1, 1, 0], dtype=int64), array([0, 1, 1, 0, 1, 0, 1, 1, 0, 0, 0, 0, 0, 1, 1, 1, 0, 0, 1, 1, 0, 0,\n",
      "       0, 1, 1, 0, 1, 1, 0, 0, 1, 0])], [array([1, 0, 1, 0, 0, 1, 0, 1, 0, 0, 0, 1, 1, 0, 0, 0, 1, 0, 1, 0, 1, 1,\n",
      "       0, 0, 1, 1, 1, 1, 0, 0, 1, 0], dtype=int64), array([1, 0, 0, 0, 0, 1, 0, 1, 0, 0, 0, 1, 1, 0, 0, 0, 1, 0, 1, 0, 1, 1,\n",
      "       0, 0, 1, 1, 1, 1, 0, 0, 1, 0])], [array([0, 0, 1, 0, 1, 0, 1, 0, 0, 1, 1, 1, 0, 1, 0, 0, 0, 1, 0, 1, 0, 0,\n",
      "       1, 0, 1, 1, 0, 1, 1, 0, 1, 1], dtype=int64), array([0, 0, 1, 0, 1, 0, 1, 0, 0, 1, 1, 1, 0, 1, 0, 0, 0, 1, 0, 1, 0, 0,\n",
      "       1, 0, 1, 0, 0, 1, 1, 0, 1, 1])], [array([0, 1, 1, 1, 0, 1, 0, 1, 1, 1, 0, 0, 0, 0, 1, 0, 1, 0, 1, 1, 0, 1,\n",
      "       1, 1, 1, 0, 0, 0, 0, 0, 0, 1], dtype=int64), array([0, 1, 0, 1, 0, 1, 0, 1, 1, 1, 0, 0, 0, 0, 1, 0, 1, 0, 1, 1, 0, 1,\n",
      "       1, 1, 1, 0, 0, 0, 0, 0, 0, 1])], [array([0, 0, 1, 1, 0, 1, 1, 1, 1, 0, 0, 1, 0, 0, 0, 0, 0, 0, 1, 1, 1, 1,\n",
      "       1, 1, 0, 0, 1, 1, 1, 0, 0, 1], dtype=int64), array([0, 0, 1, 1, 0, 1, 1, 1, 1, 0, 0, 1, 0, 0, 0, 0, 0, 0, 1, 1, 1, 1,\n",
      "       1, 1, 0, 0, 1, 1, 0, 0, 0, 1])], [array([1, 0, 1, 0, 0, 1, 1, 1, 0, 0, 1, 1, 0, 0, 0, 0, 0, 1, 1, 0, 0, 1,\n",
      "       1, 0, 1, 1, 0, 0, 0, 1, 1, 1], dtype=int64), array([1, 0, 1, 0, 0, 1, 1, 1, 0, 0, 1, 1, 0, 0, 0, 0, 0, 1, 1, 0, 0, 1,\n",
      "       1, 0, 1, 1, 0, 0, 0, 1, 1, 1])], [array([1, 0, 0, 1, 0, 1, 1, 0, 0, 1, 0, 0, 1, 1, 1, 1, 0, 0, 1, 1, 0, 1,\n",
      "       1, 0, 0, 1, 0, 1, 1, 1, 1, 0], dtype=int64), array([1, 0, 0, 1, 0, 0, 1, 0, 0, 1, 0, 0, 1, 1, 1, 1, 0, 0, 1, 0, 0, 1,\n",
      "       1, 0, 0, 1, 0, 0, 1, 1, 1, 0])], [array([0, 0, 1, 1, 1, 1, 1, 1, 0, 0, 1, 1, 0, 1, 0, 1, 0, 0, 1, 0, 1, 1,\n",
      "       0, 1, 0, 0, 0, 1, 0, 1, 1, 1], dtype=int64), array([0, 0, 1, 1, 1, 1, 1, 1, 0, 0, 0, 1, 0, 1, 0, 1, 0, 0, 1, 0, 1, 1,\n",
      "       0, 1, 0, 0, 0, 1, 0, 1, 1, 0])], [array([0, 0, 1, 1, 1, 1, 1, 1, 0, 0, 0, 1, 1, 0, 0, 0, 1, 1, 1, 0, 1, 1,\n",
      "       0, 0, 1, 1, 1, 0, 1, 0, 0, 1], dtype=int64), array([0, 0, 1, 1, 1, 0, 1, 1, 0, 0, 0, 1, 0, 0, 0, 0, 1, 1, 1, 0, 1, 1,\n",
      "       0, 0, 1, 1, 1, 0, 1, 0, 0, 1])], [array([1, 0, 0, 0, 1, 0, 1, 1, 1, 0, 0, 1, 1, 1, 0, 0, 1, 0, 1, 0, 1, 1,\n",
      "       0, 1, 1, 0, 1, 0, 1, 0, 0, 1], dtype=int64), array([1, 0, 0, 0, 1, 0, 1, 1, 1, 0, 0, 1, 1, 1, 0, 0, 1, 0, 1, 0, 1, 1,\n",
      "       0, 1, 1, 0, 1, 0, 1, 0, 0, 1])], [array([0, 0, 0, 0, 1, 1, 0, 0, 0, 0, 1, 1, 0, 0, 1, 0, 1, 0, 0, 0, 1, 1,\n",
      "       1, 0, 0, 1, 1, 0, 1, 0, 0, 1], dtype=int64), array([0, 0, 0, 0, 0, 1, 0, 0, 0, 0, 1, 1, 0, 0, 1, 0, 1, 0, 0, 0, 1, 1,\n",
      "       1, 0, 0, 1, 0, 0, 1, 0, 0, 1])], [array([1, 1, 1, 0, 0, 1, 1, 1, 0, 0, 1, 0, 0, 1, 0, 0, 1, 0, 0, 0, 1, 1,\n",
      "       0, 0, 1, 1, 0, 1, 0, 1, 0, 0], dtype=int64), array([1, 1, 1, 0, 0, 1, 1, 1, 0, 0, 1, 0, 0, 1, 0, 0, 0, 0, 0, 0, 1, 1,\n",
      "       0, 0, 1, 1, 0, 1, 0, 1, 0, 0])], [array([1, 1, 0, 0, 0, 1, 1, 0, 1, 0, 1, 1, 1, 1, 0, 1, 0, 0, 1, 1, 1, 0,\n",
      "       0, 0, 0, 0, 1, 0, 1, 1, 1, 0], dtype=int64), array([1, 1, 0, 0, 0, 1, 1, 0, 1, 0, 1, 1, 1, 1, 0, 1, 0, 0, 1, 1, 1, 0,\n",
      "       0, 0, 0, 0, 1, 0, 1, 1, 1, 0])], [array([1, 1, 0, 1, 0, 0, 0, 0, 1, 0, 0, 1, 0, 1, 0, 1, 1, 0, 1, 1, 0, 0,\n",
      "       0, 0, 0, 1, 1, 1, 0, 0, 0, 0], dtype=int64), array([1, 1, 0, 1, 0, 0, 0, 0, 1, 0, 0, 1, 0, 1, 0, 0, 1, 0, 1, 1, 0, 0,\n",
      "       0, 0, 0, 1, 1, 1, 0, 0, 0, 0])], [array([0, 1, 1, 1, 1, 1, 1, 1, 0, 1, 0, 0, 1, 1, 1, 1, 1, 0, 0, 1, 0, 0,\n",
      "       0, 0, 1, 0, 0, 1, 0, 1, 0, 1], dtype=int64), array([0, 1, 1, 1, 1, 1, 0, 1, 0, 1, 0, 0, 1, 1, 0, 1, 1, 0, 0, 0, 0, 0,\n",
      "       0, 0, 1, 0, 0, 1, 0, 1, 0, 1])], [array([1, 0, 0, 0, 0, 1, 1, 0, 1, 1, 1, 0, 1, 1, 0, 1, 0, 1, 1, 1, 1, 1,\n",
      "       1, 1, 0, 0, 1, 0, 0, 1, 1, 1], dtype=int64), array([1, 0, 0, 0, 0, 1, 1, 0, 1, 1, 1, 0, 1, 1, 0, 1, 0, 1, 1, 1, 1, 1,\n",
      "       1, 1, 0, 0, 1, 0, 0, 1, 1, 1])], [array([0, 1, 0, 1, 1, 1, 0, 1, 0, 0, 0, 1, 1, 1, 0, 1, 0, 0, 1, 1, 1, 1,\n",
      "       0, 0, 1, 1, 0, 1, 1, 0, 0, 0], dtype=int64), array([0, 0, 0, 1, 1, 1, 0, 1, 0, 0, 0, 1, 1, 1, 0, 1, 0, 0, 1, 1, 1, 1,\n",
      "       0, 0, 1, 1, 0, 1, 1, 0, 0, 0])], [array([1, 0, 1, 1, 0, 1, 1, 1, 0, 0, 1, 0, 0, 1, 1, 0, 1, 0, 1, 1, 1, 1,\n",
      "       1, 1, 0, 0, 0, 0, 1, 0, 1, 0], dtype=int64), array([1, 0, 1, 1, 0, 1, 1, 1, 0, 0, 1, 0, 0, 1, 1, 0, 1, 0, 1, 1, 1, 1,\n",
      "       1, 1, 0, 0, 0, 0, 1, 0, 1, 0])], [array([0, 0, 1, 1, 0, 0, 1, 1, 1, 1, 0, 1, 0, 1, 1, 1, 1, 0, 1, 0, 1, 0,\n",
      "       1, 0, 1, 1, 0, 1, 0, 0, 1, 1], dtype=int64), array([0, 0, 1, 1, 0, 0, 1, 1, 1, 1, 0, 1, 0, 1, 1, 1, 1, 0, 1, 0, 1, 0,\n",
      "       1, 0, 1, 1, 0, 1, 0, 0, 1, 1])], [array([1, 0, 1, 1, 1, 1, 1, 0, 1, 1, 0, 1, 1, 1, 0, 1, 1, 0, 1, 0, 1, 1,\n",
      "       0, 1, 1, 0, 0, 0, 1, 0, 0, 0], dtype=int64), array([1, 0, 1, 1, 1, 1, 1, 0, 1, 1, 0, 1, 1, 1, 0, 1, 0, 0, 1, 0, 1, 1,\n",
      "       0, 1, 1, 0, 0, 0, 1, 0, 0, 0])], [array([0, 1, 1, 1, 1, 1, 0, 1, 1, 0, 1, 1, 0, 1, 1, 0, 0, 0, 1, 0, 1, 1,\n",
      "       0, 0, 1, 1, 0, 0, 1, 1, 0, 1], dtype=int64), array([0, 1, 1, 1, 1, 1, 0, 1, 1, 0, 1, 0, 0, 1, 1, 0, 0, 0, 1, 0, 1, 1,\n",
      "       0, 0, 1, 1, 0, 0, 1, 1, 0, 0])], [array([1, 1, 0, 0, 1, 1, 0, 1, 1, 0, 1, 1, 0, 0, 1, 1, 1, 0, 0, 0, 0, 0,\n",
      "       0, 0, 1, 1, 0, 1, 1, 1, 1, 1], dtype=int64), array([1, 1, 0, 0, 1, 1, 0, 1, 1, 0, 1, 1, 0, 0, 1, 1, 1, 0, 0, 0, 0, 0,\n",
      "       0, 0, 1, 0, 0, 1, 1, 1, 1, 1])], [array([0, 1, 0, 0, 1, 0, 1, 1, 0, 1, 1, 1, 0, 1, 1, 1, 1, 0, 1, 0, 0, 0,\n",
      "       1, 0, 1, 0, 1, 1, 0, 0, 1, 1], dtype=int64), array([0, 1, 0, 0, 1, 0, 1, 1, 0, 1, 1, 1, 0, 1, 1, 1, 1, 0, 1, 0, 0, 0,\n",
      "       1, 0, 1, 0, 1, 1, 0, 0, 1, 1])], [array([0, 0, 1, 1, 0, 1, 1, 0, 0, 0, 1, 1, 1, 0, 1, 1, 0, 1, 1, 0, 1, 1,\n",
      "       1, 1, 0, 0, 1, 1, 1, 1, 0, 1], dtype=int64), array([0, 0, 1, 1, 0, 0, 1, 0, 0, 0, 1, 1, 0, 0, 1, 1, 0, 1, 1, 0, 1, 1,\n",
      "       0, 1, 0, 0, 1, 1, 1, 1, 0, 1])], [array([1, 0, 1, 0, 0, 1, 1, 1, 1, 1, 1, 0, 1, 1, 1, 0, 1, 1, 1, 1, 0, 1,\n",
      "       0, 1, 0, 1, 0, 0, 0, 1, 0, 0], dtype=int64), array([1, 0, 1, 0, 0, 1, 1, 1, 1, 1, 1, 0, 1, 1, 1, 0, 1, 1, 1, 1, 0, 1,\n",
      "       0, 1, 0, 1, 0, 0, 0, 1, 0, 0])], [array([1, 1, 0, 0, 0, 1, 1, 1, 1, 1, 0, 0, 1, 0, 1, 0, 1, 0, 1, 1, 0, 1,\n",
      "       0, 1, 0, 0, 0, 0, 1, 1, 1, 0], dtype=int64), array([1, 1, 0, 0, 0, 1, 1, 1, 1, 1, 0, 0, 1, 0, 1, 0, 1, 0, 1, 1, 0, 1,\n",
      "       0, 1, 0, 0, 0, 0, 1, 1, 1, 0])], [array([0, 0, 1, 1, 1, 0, 0, 0, 1, 0, 1, 1, 1, 0, 0, 1, 0, 0, 0, 0, 0, 1,\n",
      "       1, 1, 1, 0, 0, 1, 1, 1, 0, 1], dtype=int64), array([0, 0, 1, 1, 1, 0, 0, 0, 1, 0, 1, 1, 1, 0, 0, 1, 0, 0, 0, 0, 0, 1,\n",
      "       1, 0, 1, 0, 0, 1, 1, 1, 0, 1])], [array([1, 0, 1, 0, 0, 1, 1, 1, 1, 0, 1, 0, 0, 1, 0, 1, 0, 1, 1, 1, 1, 1,\n",
      "       1, 0, 0, 0, 0, 1, 1, 1, 1, 0], dtype=int64), array([1, 0, 1, 0, 0, 1, 1, 1, 0, 0, 1, 0, 0, 1, 0, 1, 0, 1, 1, 0, 1, 1,\n",
      "       1, 0, 0, 0, 0, 0, 1, 1, 1, 0])], [array([1, 1, 1, 0, 1, 1, 0, 0, 0, 1, 0, 0, 1, 0, 1, 1, 1, 0, 0, 1, 1, 0,\n",
      "       0, 1, 0, 1, 0, 1, 0, 1, 0, 0], dtype=int64), array([1, 1, 1, 0, 1, 1, 0, 0, 0, 1, 0, 0, 0, 0, 1, 1, 1, 0, 0, 1, 1, 0,\n",
      "       0, 1, 0, 1, 0, 1, 0, 1, 0, 0])], [array([0, 1, 1, 1, 1, 1, 1, 1, 0, 1, 1, 0, 1, 0, 0, 1, 1, 0, 0, 1, 0, 0,\n",
      "       1, 1, 0, 1, 0, 0, 0, 0, 0, 1], dtype=int64), array([0, 1, 1, 1, 1, 1, 1, 1, 0, 1, 1, 0, 1, 0, 0, 1, 1, 0, 0, 1, 0, 0,\n",
      "       1, 1, 0, 1, 0, 0, 0, 0, 0, 1])], [array([0, 1, 1, 1, 1, 1, 1, 0, 1, 1, 0, 0, 1, 0, 0, 1, 0, 1, 0, 1, 1, 0,\n",
      "       1, 1, 0, 0, 0, 0, 1, 0, 1, 0], dtype=int64), array([0, 1, 1, 1, 1, 1, 1, 0, 1, 1, 0, 0, 1, 0, 0, 1, 0, 1, 0, 1, 1, 0,\n",
      "       1, 1, 0, 0, 0, 0, 1, 0, 1, 0])], [array([1, 0, 1, 1, 1, 1, 1, 0, 1, 1, 0, 1, 1, 1, 1, 0, 0, 0, 0, 0, 1, 0,\n",
      "       1, 1, 0, 1, 0, 0, 1, 0, 0, 1], dtype=int64), array([0, 0, 1, 1, 1, 1, 1, 0, 1, 1, 0, 1, 1, 1, 1, 0, 0, 0, 0, 0, 1, 0,\n",
      "       1, 1, 0, 1, 0, 0, 1, 0, 0, 1])], [array([0, 0, 1, 1, 0, 0, 1, 0, 0, 1, 1, 1, 0, 0, 0, 1, 1, 1, 0, 1, 1, 0,\n",
      "       1, 1, 0, 1, 1, 0, 0, 1, 0, 1], dtype=int64), array([0, 0, 1, 1, 0, 0, 1, 0, 0, 1, 1, 1, 0, 0, 0, 1, 1, 1, 0, 1, 1, 0,\n",
      "       1, 1, 0, 1, 1, 0, 0, 1, 0, 1])], [array([0, 1, 1, 0, 1, 1, 1, 1, 0, 1, 0, 1, 0, 0, 1, 0, 0, 0, 1, 0, 0, 1,\n",
      "       1, 0, 1, 1, 1, 1, 0, 0, 0, 1], dtype=int64), array([0, 1, 1, 0, 1, 0, 1, 1, 0, 1, 0, 1, 0, 0, 0, 0, 0, 0, 1, 0, 0, 1,\n",
      "       1, 0, 1, 1, 1, 1, 0, 0, 0, 1])], [array([0, 0, 1, 0, 1, 1, 0, 1, 0, 1, 0, 1, 0, 1, 0, 1, 0, 0, 0, 1, 0, 1,\n",
      "       0, 0, 1, 1, 1, 1, 0, 0, 1, 0], dtype=int64), array([0, 0, 1, 0, 1, 1, 0, 1, 0, 1, 0, 1, 0, 1, 0, 1, 0, 0, 0, 0, 0, 1,\n",
      "       0, 0, 1, 1, 0, 1, 0, 0, 1, 0])], [array([0, 0, 0, 0, 1, 1, 1, 1, 1, 1, 0, 0, 1, 0, 0, 0, 1, 1, 0, 1, 1, 0,\n",
      "       1, 1, 1, 0, 1, 1, 1, 0, 0, 1], dtype=int64), array([0, 0, 0, 0, 1, 1, 1, 1, 1, 1, 0, 0, 1, 0, 0, 0, 1, 1, 0, 1, 1, 0,\n",
      "       1, 1, 1, 0, 1, 1, 1, 0, 0, 1])], [array([1, 0, 1, 1, 0, 0, 1, 0, 1, 0, 0, 1, 1, 1, 1, 1, 1, 1, 1, 0, 0, 1,\n",
      "       0, 0, 1, 1, 0, 1, 0, 0, 1, 0], dtype=int64), array([1, 0, 1, 1, 0, 0, 1, 0, 1, 0, 0, 1, 1, 1, 1, 1, 0, 1, 1, 0, 0, 1,\n",
      "       0, 0, 0, 1, 0, 1, 0, 0, 1, 0])], [array([1, 0, 1, 0, 1, 1, 0, 1, 1, 1, 1, 0, 1, 0, 1, 0, 1, 1, 0, 1, 1, 1,\n",
      "       1, 0, 0, 0, 0, 0, 0, 1, 0, 0], dtype=int64), array([1, 0, 1, 0, 1, 0, 0, 1, 0, 1, 1, 0, 1, 0, 1, 0, 1, 1, 0, 1, 1, 1,\n",
      "       1, 0, 0, 0, 0, 0, 0, 1, 0, 0])], [array([1, 0, 1, 1, 0, 0, 1, 1, 0, 0, 0, 0, 0, 1, 1, 1, 0, 0, 1, 0, 0, 1,\n",
      "       1, 1, 0, 0, 1, 0, 0, 1, 1, 0], dtype=int64), array([1, 0, 1, 1, 0, 0, 0, 1, 0, 0, 0, 0, 0, 1, 1, 1, 0, 0, 1, 0, 0, 1,\n",
      "       1, 0, 0, 0, 0, 0, 0, 1, 1, 0])], [array([1, 1, 1, 0, 1, 1, 0, 0, 0, 1, 1, 1, 1, 1, 1, 0, 0, 0, 0, 1, 1, 1,\n",
      "       0, 1, 0, 1, 1, 1, 1, 0, 1, 0], dtype=int64), array([1, 1, 1, 0, 1, 1, 0, 0, 0, 1, 1, 0, 1, 1, 1, 0, 0, 0, 0, 1, 1, 1,\n",
      "       0, 1, 0, 1, 0, 1, 1, 0, 1, 0])], [array([0, 0, 0, 1, 0, 1, 1, 0, 0, 1, 0, 0, 0, 1, 1, 0, 1, 1, 0, 0, 0, 0,\n",
      "       1, 1, 1, 1, 0, 1, 0, 1, 0, 1], dtype=int64), array([0, 0, 0, 1, 0, 1, 1, 0, 0, 1, 0, 0, 0, 1, 1, 0, 1, 1, 0, 0, 0, 0,\n",
      "       1, 1, 1, 1, 0, 1, 0, 1, 0, 1])], [array([0, 1, 1, 1, 1, 0, 1, 0, 0, 0, 0, 1, 0, 1, 1, 1, 0, 1, 1, 1, 0, 0,\n",
      "       0, 1, 0, 1, 1, 0, 1, 0, 0, 1], dtype=int64), array([0, 0, 1, 1, 1, 0, 1, 0, 0, 0, 0, 0, 0, 0, 1, 1, 0, 1, 1, 1, 0, 0,\n",
      "       0, 1, 0, 1, 1, 0, 1, 0, 0, 1])], [array([0, 1, 0, 1, 1, 0, 0, 0, 0, 0, 0, 1, 1, 1, 0, 1, 0, 0, 1, 1, 0, 0,\n",
      "       1, 0, 1, 0, 0, 1, 1, 1, 0, 1], dtype=int64), array([0, 1, 0, 1, 1, 0, 0, 0, 0, 0, 0, 1, 1, 1, 0, 1, 0, 0, 1, 1, 0, 0,\n",
      "       1, 0, 0, 0, 0, 0, 1, 1, 0, 1])], [array([0, 1, 0, 0, 1, 1, 0, 1, 1, 0, 0, 0, 0, 1, 0, 0, 0, 0, 1, 1, 0, 0,\n",
      "       1, 1, 0, 1, 1, 1, 0, 0, 1, 0], dtype=int64), array([0, 1, 0, 0, 1, 1, 0, 1, 1, 0, 0, 0, 0, 1, 0, 0, 0, 0, 1, 1, 0, 0,\n",
      "       1, 1, 0, 1, 0, 1, 0, 0, 0, 0])], [array([1, 0, 0, 1, 0, 1, 1, 0, 1, 1, 1, 0, 0, 0, 0, 1, 1, 0, 1, 0, 0, 0,\n",
      "       0, 1, 1, 0, 0, 0, 0, 0, 0, 0], dtype=int64), array([1, 0, 0, 1, 0, 1, 1, 0, 1, 1, 1, 0, 0, 0, 0, 0, 1, 0, 1, 0, 0, 0,\n",
      "       0, 1, 1, 0, 0, 0, 0, 0, 0, 0])], [array([0, 1, 1, 0, 1, 1, 0, 0, 0, 0, 1, 0, 0, 0, 1, 0, 1, 1, 1, 0, 0, 1,\n",
      "       0, 0, 1, 0, 1, 1, 0, 0, 1, 0], dtype=int64), array([0, 1, 1, 0, 1, 1, 0, 0, 0, 0, 1, 0, 0, 0, 1, 0, 1, 1, 1, 0, 0, 1,\n",
      "       0, 0, 1, 0, 1, 1, 0, 0, 1, 0])], [array([1, 0, 1, 0, 0, 0, 1, 1, 0, 0, 0, 1, 1, 1, 1, 0, 0, 1, 0, 0, 1, 1,\n",
      "       1, 1, 1, 0, 0, 1, 1, 0, 0, 1], dtype=int64), array([1, 0, 1, 0, 0, 0, 1, 1, 0, 0, 0, 1, 0, 1, 1, 0, 0, 1, 0, 0, 1, 0,\n",
      "       1, 1, 1, 0, 0, 1, 1, 0, 0, 1])], [array([1, 1, 0, 1, 1, 0, 0, 1, 1, 1, 1, 1, 0, 0, 0, 1, 1, 1, 1, 0, 1, 0,\n",
      "       1, 1, 1, 0, 1, 0, 1, 1, 1, 0], dtype=int64), array([1, 1, 0, 1, 1, 0, 0, 1, 1, 1, 1, 1, 0, 0, 0, 1, 1, 1, 1, 0, 1, 0,\n",
      "       1, 1, 1, 0, 1, 0, 1, 1, 1, 0])], [array([1, 1, 1, 0, 0, 0, 1, 0, 1, 1, 1, 1, 1, 1, 1, 0, 1, 1, 0, 1, 1, 1,\n",
      "       0, 1, 1, 1, 1, 1, 0, 0, 0, 0], dtype=int64), array([1, 1, 1, 0, 0, 0, 1, 0, 1, 1, 1, 1, 1, 1, 1, 0, 1, 1, 0, 1, 1, 1,\n",
      "       0, 1, 1, 1, 1, 1, 0, 0, 0, 0])], [array([0, 0, 1, 0, 1, 1, 1, 0, 0, 1, 0, 0, 1, 0, 1, 0, 1, 1, 1, 0, 0, 1,\n",
      "       0, 1, 0, 0, 1, 1, 0, 0, 0, 1], dtype=int64), array([0, 0, 1, 0, 1, 1, 1, 0, 0, 1, 0, 0, 1, 0, 1, 0, 1, 1, 0, 0, 0, 0,\n",
      "       0, 0, 0, 0, 1, 1, 0, 0, 0, 1])], [array([1, 0, 1, 0, 1, 0, 0, 0, 1, 0, 0, 1, 1, 0, 0, 0, 0, 1, 0, 0, 1, 0,\n",
      "       1, 1, 0, 1, 1, 0, 1, 1, 0, 1], dtype=int64), array([1, 0, 1, 0, 1, 0, 0, 0, 1, 0, 0, 1, 1, 0, 0, 0, 0, 1, 0, 0, 0, 0,\n",
      "       1, 0, 0, 1, 1, 0, 1, 1, 0, 1])], [array([0, 1, 1, 1, 0, 0, 0, 0, 0, 0, 1, 0, 0, 0, 0, 1, 1, 0, 1, 1, 1, 1,\n",
      "       0, 0, 1, 1, 1, 1, 0, 1, 1, 0], dtype=int64), array([0, 1, 1, 1, 0, 0, 0, 0, 0, 0, 1, 0, 0, 0, 0, 1, 1, 0, 1, 1, 1, 1,\n",
      "       0, 0, 1, 1, 1, 1, 0, 1, 0, 0])], [array([1, 0, 1, 0, 1, 1, 0, 0, 0, 0, 1, 1, 1, 1, 1, 0, 0, 1, 0, 1, 0, 1,\n",
      "       1, 1, 1, 1, 1, 1, 0, 0, 0, 0], dtype=int64), array([1, 0, 1, 0, 1, 0, 0, 0, 0, 0, 1, 1, 1, 1, 1, 0, 0, 0, 0, 1, 0, 1,\n",
      "       1, 1, 1, 1, 1, 1, 0, 0, 0, 0])], [array([1, 0, 1, 1, 0, 1, 1, 1, 0, 0, 1, 0, 1, 1, 0, 1, 1, 1, 1, 0, 1, 0,\n",
      "       0, 1, 0, 1, 0, 1, 0, 1, 1, 0], dtype=int64), array([1, 0, 0, 1, 0, 1, 1, 1, 0, 0, 1, 0, 1, 1, 0, 1, 1, 1, 1, 0, 1, 0,\n",
      "       0, 0, 0, 1, 0, 1, 0, 1, 1, 0])], [array([0, 1, 1, 1, 0, 1, 0, 1, 0, 1, 1, 1, 0, 0, 1, 0, 0, 1, 0, 0, 0, 0,\n",
      "       0, 0, 0, 1, 0, 0, 1, 1, 0, 1], dtype=int64), array([0, 1, 1, 1, 0, 0, 0, 1, 0, 1, 1, 1, 0, 0, 1, 0, 0, 1, 0, 0, 0, 0,\n",
      "       0, 0, 0, 1, 0, 0, 1, 1, 0, 1])], [array([1, 1, 0, 0, 1, 0, 1, 0, 1, 1, 0, 0, 1, 1, 0, 1, 1, 0, 1, 0, 0, 1,\n",
      "       0, 0, 1, 0, 1, 1, 1, 1, 1, 1], dtype=int64), array([1, 1, 0, 0, 1, 0, 1, 0, 1, 1, 0, 0, 1, 1, 0, 1, 1, 0, 1, 0, 0, 1,\n",
      "       0, 0, 1, 0, 1, 1, 1, 1, 0, 0])], [array([0, 0, 1, 0, 0, 0, 0, 1, 1, 0, 1, 1, 0, 1, 0, 0, 1, 0, 0, 1, 1, 1,\n",
      "       0, 1, 0, 1, 0, 0, 1, 0, 0, 1], dtype=int64), array([0, 0, 1, 0, 0, 0, 0, 1, 1, 0, 1, 1, 0, 1, 0, 0, 1, 0, 0, 1, 1, 1,\n",
      "       0, 1, 0, 1, 0, 0, 1, 0, 0, 1])], [array([1, 0, 1, 1, 1, 1, 1, 1, 1, 0, 0, 1, 1, 0, 1, 1, 1, 0, 0, 1, 0, 1,\n",
      "       0, 0, 1, 1, 1, 0, 0, 0, 1, 0], dtype=int64), array([1, 0, 1, 1, 1, 1, 1, 1, 1, 0, 0, 1, 1, 0, 1, 1, 0, 0, 0, 1, 0, 1,\n",
      "       0, 0, 1, 1, 1, 0, 0, 0, 1, 0])], [array([0, 0, 0, 0, 1, 0, 1, 0, 1, 1, 1, 0, 0, 1, 0, 1, 1, 1, 0, 0, 1, 1,\n",
      "       0, 1, 0, 0, 1, 0, 1, 0, 0, 0], dtype=int64), array([0, 0, 0, 0, 1, 0, 1, 0, 0, 1, 1, 0, 0, 1, 0, 1, 1, 1, 0, 0, 1, 1,\n",
      "       0, 1, 0, 0, 1, 0, 1, 0, 0, 0])], [array([1, 1, 0, 1, 1, 1, 0, 1, 1, 1, 1, 0, 1, 1, 0, 1, 0, 1, 1, 1, 1, 1,\n",
      "       0, 0, 0, 0, 1, 1, 0, 1, 1, 1], dtype=int64), array([1, 1, 0, 1, 1, 0, 0, 1, 1, 1, 1, 0, 1, 1, 0, 1, 0, 1, 1, 1, 1, 1,\n",
      "       0, 0, 0, 0, 1, 1, 0, 1, 1, 1])], [array([1, 1, 1, 0, 0, 0, 1, 0, 1, 1, 0, 1, 1, 1, 1, 1, 0, 1, 0, 1, 1, 1,\n",
      "       0, 0, 1, 0, 0, 0, 0, 1, 1, 0], dtype=int64), array([1, 1, 1, 0, 0, 0, 1, 0, 1, 1, 0, 1, 1, 1, 1, 1, 0, 1, 0, 0, 1, 1,\n",
      "       0, 0, 1, 0, 0, 0, 0, 1, 1, 0])], [array([1, 1, 0, 1, 1, 0, 1, 0, 1, 1, 1, 0, 1, 0, 1, 0, 1, 0, 0, 0, 0, 0,\n",
      "       0, 1, 0, 0, 0, 1, 1, 0, 0, 0], dtype=int64), array([1, 1, 0, 1, 1, 0, 1, 0, 1, 1, 1, 0, 1, 0, 1, 0, 1, 0, 0, 0, 0, 0,\n",
      "       0, 1, 0, 0, 0, 1, 1, 0, 0, 0])], [array([1, 0, 1, 0, 1, 1, 1, 0, 0, 0, 1, 1, 1, 0, 0, 1, 1, 0, 0, 0, 0, 1,\n",
      "       0, 0, 0, 1, 0, 0, 1, 0, 1, 1], dtype=int64), array([0, 0, 0, 0, 1, 1, 1, 0, 0, 0, 1, 0, 1, 0, 0, 1, 1, 0, 0, 0, 0, 1,\n",
      "       0, 0, 0, 1, 0, 0, 1, 0, 1, 1])], [array([0, 1, 1, 1, 0, 0, 1, 1, 0, 0, 1, 0, 0, 1, 1, 1, 1, 0, 0, 1, 0, 0,\n",
      "       1, 1, 1, 1, 0, 0, 1, 1, 1, 1], dtype=int64), array([0, 1, 1, 1, 0, 0, 1, 1, 0, 0, 0, 0, 0, 1, 1, 1, 1, 0, 0, 1, 0, 0,\n",
      "       1, 1, 1, 1, 0, 0, 1, 1, 1, 1])], [array([0, 1, 0, 0, 1, 1, 0, 0, 0, 1, 0, 0, 1, 1, 1, 1, 0, 1, 1, 1, 0, 0,\n",
      "       0, 1, 1, 1, 0, 0, 0, 0, 1, 1], dtype=int64), array([0, 1, 0, 0, 1, 1, 0, 0, 0, 1, 0, 0, 1, 1, 1, 1, 0, 1, 1, 1, 0, 0,\n",
      "       0, 1, 1, 0, 0, 0, 0, 0, 1, 1])], [array([1, 1, 1, 1, 0, 1, 0, 0, 1, 0, 0, 0, 0, 0, 0, 0, 1, 0, 1, 1, 1, 1,\n",
      "       0, 1, 0, 0, 1, 0, 0, 1, 1, 1], dtype=int64), array([1, 0, 1, 1, 0, 1, 0, 0, 1, 0, 0, 0, 0, 0, 0, 0, 1, 0, 1, 1, 1, 1,\n",
      "       0, 1, 0, 0, 0, 0, 0, 1, 1, 1])], [array([1, 1, 1, 1, 1, 0, 1, 0, 1, 1, 1, 1, 1, 1, 1, 0, 1, 1, 1, 0, 0, 0,\n",
      "       0, 0, 1, 1, 1, 1, 1, 0, 1, 1], dtype=int64), array([1, 1, 1, 1, 0, 0, 0, 0, 1, 1, 1, 1, 0, 0, 1, 0, 1, 1, 1, 0, 0, 0,\n",
      "       0, 0, 1, 1, 1, 1, 1, 0, 1, 1])], [array([0, 0, 1, 0, 1, 1, 1, 1, 1, 1, 0, 1, 1, 0, 1, 1, 1, 1, 1, 0, 1, 0,\n",
      "       0, 0, 0, 0, 0, 1, 1, 0, 1, 1], dtype=int64), array([0, 0, 1, 0, 1, 1, 1, 1, 1, 1, 0, 1, 1, 0, 1, 1, 1, 1, 1, 0, 1, 0,\n",
      "       0, 0, 0, 0, 0, 1, 0, 0, 1, 1])], [array([1, 0, 1, 1, 1, 1, 1, 0, 1, 0, 1, 1, 1, 0, 1, 1, 0, 1, 1, 1, 0, 1,\n",
      "       1, 1, 0, 1, 1, 0, 0, 1, 1, 1], dtype=int64), array([1, 0, 1, 1, 1, 1, 1, 0, 1, 0, 1, 1, 1, 0, 1, 1, 0, 1, 1, 1, 0, 1,\n",
      "       1, 1, 0, 1, 1, 0, 0, 1, 1, 1])], [array([0, 1, 1, 0, 0, 1, 1, 0, 1, 1, 0, 0, 1, 1, 1, 1, 1, 1, 1, 1, 0, 0,\n",
      "       1, 1, 1, 0, 0, 1, 0, 1, 0, 0], dtype=int64), array([0, 1, 1, 0, 0, 1, 1, 0, 1, 1, 0, 0, 1, 1, 1, 0, 1, 1, 0, 1, 0, 0,\n",
      "       1, 1, 1, 0, 0, 1, 0, 1, 0, 0])], [array([1, 0, 1, 0, 1, 1, 0, 1, 1, 1, 0, 1, 0, 0, 1, 0, 1, 1, 0, 1, 1, 0,\n",
      "       1, 0, 1, 0, 1, 1, 1, 1, 0, 0], dtype=int64), array([1, 0, 1, 0, 1, 1, 0, 1, 1, 1, 0, 1, 0, 0, 1, 0, 1, 1, 0, 1, 1, 0,\n",
      "       1, 0, 1, 0, 1, 1, 1, 0, 0, 0])], [array([0, 1, 0, 1, 0, 1, 0, 1, 0, 1, 0, 1, 0, 0, 1, 0, 1, 1, 1, 1, 1, 1,\n",
      "       0, 0, 1, 1, 1, 1, 0, 0, 1, 1], dtype=int64), array([0, 1, 0, 1, 0, 1, 0, 1, 0, 1, 0, 1, 0, 0, 1, 0, 1, 0, 1, 1, 0, 1,\n",
      "       0, 0, 1, 1, 1, 0, 0, 0, 1, 0])], [array([1, 0, 0, 0, 1, 0, 1, 0, 0, 0, 0, 0, 0, 0, 0, 1, 1, 1, 1, 0, 0, 1,\n",
      "       0, 1, 1, 1, 1, 1, 1, 1, 1, 1], dtype=int64), array([1, 0, 0, 0, 1, 0, 1, 0, 0, 0, 0, 0, 0, 0, 0, 1, 1, 1, 1, 0, 0, 1,\n",
      "       0, 1, 1, 1, 1, 1, 1, 1, 1, 1])], [array([0, 1, 1, 0, 1, 0, 1, 1, 1, 1, 0, 1, 1, 1, 0, 0, 0, 1, 1, 1, 1, 0,\n",
      "       0, 1, 1, 0, 0, 0, 1, 1, 0, 0], dtype=int64), array([0, 1, 1, 0, 1, 0, 1, 1, 1, 1, 0, 0, 1, 1, 0, 0, 0, 1, 1, 1, 1, 0,\n",
      "       0, 1, 1, 0, 0, 0, 1, 1, 0, 0])], [array([1, 0, 0, 1, 1, 0, 0, 1, 0, 0, 1, 0, 1, 1, 1, 1, 1, 0, 0, 1, 1, 0,\n",
      "       0, 0, 0, 0, 1, 1, 0, 1, 0, 0], dtype=int64), array([1, 0, 0, 1, 1, 0, 0, 1, 0, 0, 1, 0, 1, 1, 1, 1, 0, 0, 0, 1, 1, 0,\n",
      "       0, 0, 0, 0, 1, 1, 0, 1, 0, 0])], [array([1, 0, 0, 1, 1, 0, 1, 1, 0, 0, 0, 1, 0, 0, 0, 1, 1, 0, 1, 1, 0, 1,\n",
      "       1, 1, 0, 0, 0, 0, 0, 1, 0, 0], dtype=int64), array([1, 0, 0, 1, 1, 0, 1, 1, 0, 0, 0, 0, 0, 0, 0, 1, 1, 0, 1, 1, 0, 1,\n",
      "       1, 1, 0, 0, 0, 0, 0, 1, 0, 0])], [array([0, 1, 1, 0, 0, 0, 1, 0, 0, 1, 0, 1, 1, 0, 0, 0, 1, 0, 0, 1, 1, 0,\n",
      "       0, 1, 1, 0, 1, 0, 0, 0, 1, 1], dtype=int64), array([0, 1, 0, 0, 0, 0, 1, 0, 0, 1, 0, 1, 1, 0, 0, 0, 1, 0, 0, 1, 1, 0,\n",
      "       0, 1, 1, 0, 1, 0, 0, 0, 1, 1])], [array([0, 0, 1, 0, 0, 1, 0, 0, 0, 1, 0, 1, 1, 1, 0, 1, 1, 0, 1, 1, 0, 0,\n",
      "       1, 1, 0, 0, 1, 1, 1, 1, 1, 0], dtype=int64), array([0, 0, 1, 0, 0, 1, 0, 0, 0, 1, 0, 1, 1, 1, 0, 1, 1, 0, 1, 0, 0, 0,\n",
      "       1, 1, 0, 0, 1, 1, 1, 1, 1, 0])], [array([1, 0, 1, 0, 1, 1, 0, 1, 0, 1, 0, 1, 0, 1, 0, 1, 0, 1, 0, 0, 1, 1,\n",
      "       1, 0, 1, 0, 1, 1, 1, 1, 0, 1], dtype=int64), array([0, 0, 1, 0, 1, 1, 0, 1, 0, 1, 0, 1, 0, 1, 0, 1, 0, 1, 0, 0, 1, 1,\n",
      "       1, 0, 1, 0, 1, 1, 1, 1, 0, 1])], [array([1, 0, 1, 0, 0, 0, 1, 1, 1, 0, 1, 0, 1, 1, 1, 0, 1, 1, 0, 1, 0, 0,\n",
      "       1, 0, 0, 1, 0, 0, 1, 1, 0, 1], dtype=int64), array([1, 0, 1, 0, 0, 0, 1, 1, 1, 0, 1, 0, 1, 1, 1, 0, 1, 1, 0, 1, 0, 0,\n",
      "       1, 0, 0, 1, 0, 0, 1, 0, 0, 1])], [array([1, 0, 1, 0, 0, 1, 1, 1, 0, 1, 0, 1, 1, 0, 1, 1, 1, 0, 1, 0, 0, 1,\n",
      "       0, 1, 1, 1, 1, 1, 1, 1, 0, 1], dtype=int64), array([1, 0, 1, 0, 0, 1, 1, 1, 0, 1, 0, 1, 1, 0, 1, 1, 1, 0, 1, 0, 0, 1,\n",
      "       0, 1, 0, 1, 1, 1, 1, 1, 0, 1])], [array([0, 1, 0, 1, 0, 1, 1, 1, 0, 1, 1, 0, 0, 0, 1, 0, 1, 0, 0, 1, 0, 0,\n",
      "       1, 0, 1, 1, 1, 0, 0, 1, 0, 1], dtype=int64), array([0, 0, 0, 1, 0, 1, 1, 1, 0, 1, 1, 0, 0, 0, 1, 0, 1, 0, 0, 1, 0, 0,\n",
      "       1, 0, 1, 1, 1, 0, 0, 1, 0, 0])], [array([0, 0, 1, 1, 0, 1, 1, 1, 0, 1, 1, 1, 1, 1, 1, 1, 0, 0, 0, 0, 1, 0,\n",
      "       0, 1, 1, 0, 1, 0, 0, 0, 1, 0], dtype=int64), array([0, 0, 1, 1, 0, 1, 1, 1, 0, 0, 1, 1, 1, 1, 1, 1, 0, 0, 0, 0, 1, 0,\n",
      "       0, 1, 1, 0, 1, 0, 0, 0, 1, 0])], [array([1, 0, 1, 1, 1, 0, 0, 0, 1, 1, 1, 0, 1, 1, 1, 0, 0, 1, 1, 0, 0, 1,\n",
      "       0, 1, 1, 0, 1, 0, 1, 1, 0, 1], dtype=int64), array([1, 0, 1, 1, 1, 0, 0, 0, 1, 1, 1, 0, 1, 1, 0, 0, 0, 1, 1, 0, 0, 1,\n",
      "       0, 1, 1, 0, 1, 0, 1, 1, 0, 1])], [array([0, 1, 1, 1, 0, 1, 0, 1, 1, 1, 1, 1, 0, 1, 1, 0, 0, 0, 1, 1, 1, 0,\n",
      "       1, 1, 1, 1, 0, 0, 1, 0, 0, 1], dtype=int64), array([0, 1, 1, 1, 0, 1, 0, 1, 1, 1, 1, 1, 0, 1, 1, 0, 0, 0, 1, 1, 1, 0,\n",
      "       1, 1, 1, 1, 0, 0, 1, 0, 0, 1])], [array([1, 0, 1, 1, 0, 0, 0, 1, 0, 1, 1, 0, 1, 1, 0, 1, 0, 1, 1, 1, 1, 0,\n",
      "       0, 0, 0, 1, 1, 1, 1, 1, 1, 1], dtype=int64), array([1, 0, 1, 1, 0, 0, 0, 1, 0, 1, 1, 0, 1, 1, 0, 1, 0, 1, 1, 1, 1, 0,\n",
      "       0, 0, 0, 1, 1, 1, 1, 1, 1, 1])], [array([0, 1, 1, 1, 0, 1, 1, 0, 0, 1, 0, 0, 0, 0, 1, 1, 1, 0, 1, 0, 0, 1,\n",
      "       1, 1, 0, 1, 0, 1, 1, 1, 1, 1], dtype=int64), array([0, 1, 1, 1, 0, 1, 1, 0, 0, 1, 0, 0, 0, 0, 1, 1, 1, 0, 1, 0, 0, 1,\n",
      "       1, 1, 0, 1, 0, 1, 1, 1, 1, 1])], [array([1, 1, 0, 1, 1, 0, 0, 0, 0, 1, 1, 1, 0, 1, 1, 1, 1, 0, 1, 1, 1, 1,\n",
      "       0, 0, 0, 0, 0, 1, 0, 0, 0, 1], dtype=int64), array([1, 1, 0, 1, 1, 0, 0, 0, 0, 1, 1, 0, 0, 1, 1, 1, 1, 0, 1, 1, 1, 0,\n",
      "       0, 0, 0, 0, 0, 1, 0, 0, 0, 1])], [array([0, 1, 1, 0, 0, 1, 0, 0, 1, 1, 1, 1, 0, 0, 0, 1, 0, 1, 1, 1, 0, 1,\n",
      "       1, 0, 1, 1, 0, 0, 0, 1, 0, 0], dtype=int64), array([0, 1, 1, 0, 0, 1, 0, 0, 1, 1, 1, 1, 0, 0, 0, 1, 0, 1, 1, 1, 0, 1,\n",
      "       1, 0, 1, 1, 0, 0, 0, 1, 0, 0])], [array([1, 1, 1, 1, 0, 1, 0, 1, 0, 1, 1, 0, 1, 1, 1, 1, 1, 0, 1, 0, 1, 0,\n",
      "       0, 0, 0, 0, 1, 0, 0, 1, 1, 0], dtype=int64), array([1, 1, 1, 1, 0, 0, 0, 1, 0, 1, 1, 0, 1, 1, 1, 1, 1, 0, 1, 0, 0, 0,\n",
      "       0, 0, 0, 0, 1, 0, 0, 1, 0, 0])], [array([0, 0, 1, 1, 0, 0, 0, 0, 1, 1, 0, 1, 1, 0, 1, 1, 1, 0, 0, 0, 1, 0,\n",
      "       0, 1, 1, 0, 0, 0, 1, 1, 1, 0], dtype=int64), array([0, 0, 1, 1, 0, 0, 0, 0, 1, 1, 0, 1, 1, 0, 1, 1, 1, 0, 0, 0, 1, 0,\n",
      "       0, 1, 1, 0, 0, 0, 1, 1, 1, 0])], [array([0, 1, 0, 1, 1, 1, 1, 0, 1, 1, 1, 1, 1, 0, 1, 1, 1, 0, 1, 1, 1, 0,\n",
      "       1, 1, 1, 1, 0, 1, 0, 0, 1, 0], dtype=int64), array([0, 1, 0, 1, 0, 1, 1, 0, 1, 1, 1, 0, 1, 0, 1, 1, 1, 0, 1, 1, 1, 0,\n",
      "       1, 1, 1, 0, 0, 0, 0, 0, 1, 0])], [array([1, 0, 1, 0, 0, 0, 0, 1, 0, 1, 0, 0, 0, 1, 1, 0, 0, 0, 1, 0, 1, 0,\n",
      "       1, 1, 0, 1, 1, 0, 1, 1, 1, 0], dtype=int64), array([1, 0, 1, 0, 0, 0, 0, 1, 0, 1, 0, 0, 0, 1, 1, 0, 0, 0, 1, 0, 1, 0,\n",
      "       1, 1, 0, 1, 1, 0, 1, 1, 1, 0])], [array([1, 1, 0, 1, 1, 0, 1, 0, 0, 0, 1, 1, 0, 1, 0, 1, 0, 1, 0, 0, 1, 0,\n",
      "       1, 1, 1, 0, 0, 0, 0, 0, 0, 1], dtype=int64), array([1, 1, 0, 1, 1, 0, 1, 0, 0, 0, 1, 1, 0, 1, 0, 1, 0, 1, 0, 0, 1, 0,\n",
      "       1, 1, 1, 0, 0, 0, 0, 0, 0, 1])], [array([0, 0, 1, 1, 1, 0, 1, 1, 1, 0, 1, 0, 0, 0, 0, 0, 1, 0, 1, 1, 0, 1,\n",
      "       1, 1, 1, 1, 0, 0, 1, 1, 0, 1], dtype=int64), array([0, 0, 1, 1, 1, 0, 1, 1, 1, 0, 1, 0, 0, 0, 0, 0, 1, 0, 1, 1, 0, 1,\n",
      "       1, 1, 1, 1, 0, 0, 1, 1, 0, 1])], [array([1, 1, 1, 1, 1, 0, 1, 1, 1, 0, 1, 1, 1, 0, 0, 1, 0, 0, 1, 0, 1, 0,\n",
      "       1, 0, 1, 0, 1, 1, 1, 0, 0, 1], dtype=int64), array([1, 1, 1, 1, 1, 0, 1, 0, 1, 0, 1, 1, 0, 0, 0, 1, 0, 0, 1, 0, 1, 0,\n",
      "       1, 0, 1, 0, 1, 1, 1, 0, 0, 1])], [array([0, 0, 1, 1, 1, 0, 0, 0, 1, 1, 0, 1, 0, 0, 1, 0, 0, 0, 1, 1, 1, 1,\n",
      "       1, 1, 1, 1, 0, 1, 0, 1, 0, 1], dtype=int64), array([0, 0, 1, 1, 1, 0, 0, 0, 1, 1, 0, 1, 0, 0, 1, 0, 0, 0, 0, 1, 1, 1,\n",
      "       1, 1, 1, 1, 0, 1, 0, 1, 0, 1])], [array([1, 0, 0, 1, 1, 1, 1, 1, 0, 1, 0, 0, 0, 1, 1, 0, 1, 0, 1, 1, 1, 0,\n",
      "       0, 0, 1, 0, 1, 1, 1, 0, 0, 0], dtype=int64), array([1, 0, 0, 1, 1, 1, 0, 1, 0, 1, 0, 0, 0, 1, 1, 0, 1, 0, 1, 1, 1, 0,\n",
      "       0, 0, 1, 0, 1, 0, 1, 0, 0, 0])], [array([1, 0, 1, 1, 1, 0, 0, 0, 1, 0, 1, 1, 1, 1, 0, 0, 1, 0, 1, 0, 1, 1,\n",
      "       0, 1, 0, 1, 0, 1, 0, 1, 0, 0], dtype=int64), array([1, 0, 1, 1, 1, 0, 0, 0, 1, 0, 1, 1, 1, 1, 0, 0, 1, 0, 1, 0, 1, 1,\n",
      "       0, 1, 0, 1, 0, 1, 0, 0, 0, 0])], [array([1, 1, 0, 1, 0, 1, 0, 1, 0, 1, 0, 0, 0, 0, 1, 1, 0, 0, 1, 1, 0, 0,\n",
      "       1, 0, 1, 1, 0, 0, 1, 1, 0, 0], dtype=int64), array([1, 1, 0, 1, 0, 1, 0, 1, 0, 1, 0, 0, 0, 0, 1, 1, 0, 0, 1, 1, 0, 0,\n",
      "       1, 0, 1, 1, 0, 0, 1, 1, 0, 0])], [array([1, 1, 1, 0, 0, 0, 0, 1, 1, 0, 1, 0, 1, 1, 1, 0, 1, 0, 0, 1, 0, 0,\n",
      "       1, 0, 0, 0, 0, 0, 1, 1, 1, 0], dtype=int64), array([1, 1, 1, 0, 0, 0, 0, 1, 1, 0, 0, 0, 1, 1, 1, 0, 1, 0, 0, 1, 0, 0,\n",
      "       1, 0, 0, 0, 0, 0, 1, 1, 1, 0])], [array([1, 1, 1, 1, 0, 1, 1, 0, 1, 0, 1, 0, 1, 1, 1, 1, 0, 1, 1, 1, 0, 1,\n",
      "       1, 0, 1, 0, 0, 0, 1, 0, 1, 1], dtype=int64), array([1, 1, 1, 0, 0, 1, 1, 0, 1, 0, 1, 0, 1, 1, 1, 1, 0, 1, 1, 0, 0, 1,\n",
      "       1, 0, 1, 0, 0, 0, 1, 0, 1, 1])], [array([0, 1, 1, 1, 0, 0, 1, 1, 1, 1, 1, 1, 1, 0, 1, 1, 1, 1, 1, 0, 0, 1,\n",
      "       0, 0, 0, 0, 0, 1, 1, 1, 1, 0], dtype=int64), array([0, 1, 1, 0, 0, 0, 1, 1, 0, 1, 1, 1, 1, 0, 1, 1, 1, 1, 1, 0, 0, 1,\n",
      "       0, 0, 0, 0, 0, 1, 1, 1, 1, 0])], [array([0, 1, 1, 1, 0, 0, 0, 1, 1, 1, 1, 1, 1, 1, 1, 1, 0, 0, 1, 0, 1, 0,\n",
      "       1, 1, 1, 0, 1, 0, 1, 1, 0, 0], dtype=int64), array([0, 1, 1, 1, 0, 0, 0, 0, 1, 1, 1, 1, 1, 1, 1, 1, 0, 0, 1, 0, 1, 0,\n",
      "       1, 1, 1, 0, 1, 0, 1, 1, 0, 0])], [array([0, 0, 0, 0, 1, 0, 1, 0, 0, 1, 1, 0, 0, 0, 0, 1, 1, 0, 0, 1, 1, 1,\n",
      "       0, 1, 1, 1, 1, 1, 1, 0, 0, 1], dtype=int64), array([0, 0, 0, 0, 1, 0, 1, 0, 0, 1, 1, 0, 0, 0, 0, 1, 1, 0, 0, 1, 1, 1,\n",
      "       0, 1, 1, 1, 1, 1, 1, 0, 0, 1])], [array([0, 1, 0, 1, 0, 0, 1, 0, 1, 0, 1, 0, 0, 1, 1, 1, 1, 1, 0, 1, 1, 0,\n",
      "       1, 1, 1, 1, 0, 0, 0, 1, 1, 0], dtype=int64), array([0, 1, 0, 1, 0, 0, 1, 0, 1, 0, 1, 0, 0, 1, 1, 1, 1, 1, 0, 1, 1, 0,\n",
      "       1, 1, 1, 1, 0, 0, 0, 1, 1, 0])], [array([1, 1, 1, 0, 0, 0, 0, 1, 1, 0, 1, 1, 0, 1, 0, 1, 0, 0, 1, 1, 1, 1,\n",
      "       0, 1, 0, 0, 1, 0, 0, 1, 0, 0], dtype=int64), array([1, 1, 1, 0, 0, 0, 0, 1, 1, 0, 1, 1, 0, 1, 0, 1, 0, 0, 1, 1, 1, 1,\n",
      "       0, 1, 0, 0, 1, 0, 0, 1, 0, 0])]]\n"
     ]
    }
   ],
   "source": [
    "class_label = []\n",
    "for item in test_ds:\n",
    "    output = np.argmax(model.predict(item[0]), axis = 1)\n",
    "    # print(output)\n",
    "    # print(item[1])\n",
    "    # break\n",
    "    class_label.append([output, item[1].numpy()])\n",
    "print(class_label)"
   ]
  },
  {
   "cell_type": "code",
   "execution_count": 28,
   "metadata": {},
   "outputs": [
    {
     "data": {
      "text/plain": [
       "[array([1, 1, 1, 1, 1, 1, 1, 1, 0, 0, 0, 1, 0, 0, 1, 1, 1, 0, 1, 1, 0, 1,\n",
       "        0, 1, 0, 1, 0, 0, 1, 1, 1, 0], dtype=int64),\n",
       " array([1, 1, 1, 1, 1, 1, 0, 1, 0, 0, 0, 1, 0, 0, 1, 1, 1, 0, 1, 0, 0, 1,\n",
       "        0, 1, 0, 1, 0, 0, 1, 1, 1, 0])]"
      ]
     },
     "execution_count": 28,
     "metadata": {},
     "output_type": "execute_result"
    }
   ],
   "source": [
    "class_label[0]"
   ]
  },
  {
   "cell_type": "code",
   "execution_count": 30,
   "metadata": {},
   "outputs": [],
   "source": [
    "testsamples = []\n",
    "for row in class_label:\n",
    "    n = len(row[0])\n",
    "    for i in range(n):\n",
    "        testsamples.append([row[0][i], row[1][i]])\n",
    "    "
   ]
  },
  {
   "cell_type": "code",
   "execution_count": 32,
   "metadata": {},
   "outputs": [
    {
     "data": {
      "text/html": [
       "<div>\n",
       "<style scoped>\n",
       "    .dataframe tbody tr th:only-of-type {\n",
       "        vertical-align: middle;\n",
       "    }\n",
       "\n",
       "    .dataframe tbody tr th {\n",
       "        vertical-align: top;\n",
       "    }\n",
       "\n",
       "    .dataframe thead th {\n",
       "        text-align: right;\n",
       "    }\n",
       "</style>\n",
       "<table border=\"1\" class=\"dataframe\">\n",
       "  <thead>\n",
       "    <tr style=\"text-align: right;\">\n",
       "      <th></th>\n",
       "      <th>Predicted</th>\n",
       "      <th>Actual</th>\n",
       "    </tr>\n",
       "  </thead>\n",
       "  <tbody>\n",
       "    <tr>\n",
       "      <th>0</th>\n",
       "      <td>1</td>\n",
       "      <td>1</td>\n",
       "    </tr>\n",
       "    <tr>\n",
       "      <th>1</th>\n",
       "      <td>1</td>\n",
       "      <td>1</td>\n",
       "    </tr>\n",
       "    <tr>\n",
       "      <th>2</th>\n",
       "      <td>1</td>\n",
       "      <td>1</td>\n",
       "    </tr>\n",
       "    <tr>\n",
       "      <th>3</th>\n",
       "      <td>1</td>\n",
       "      <td>1</td>\n",
       "    </tr>\n",
       "    <tr>\n",
       "      <th>4</th>\n",
       "      <td>1</td>\n",
       "      <td>1</td>\n",
       "    </tr>\n",
       "    <tr>\n",
       "      <th>...</th>\n",
       "      <td>...</td>\n",
       "      <td>...</td>\n",
       "    </tr>\n",
       "    <tr>\n",
       "      <th>3995</th>\n",
       "      <td>0</td>\n",
       "      <td>0</td>\n",
       "    </tr>\n",
       "    <tr>\n",
       "      <th>3996</th>\n",
       "      <td>0</td>\n",
       "      <td>0</td>\n",
       "    </tr>\n",
       "    <tr>\n",
       "      <th>3997</th>\n",
       "      <td>1</td>\n",
       "      <td>1</td>\n",
       "    </tr>\n",
       "    <tr>\n",
       "      <th>3998</th>\n",
       "      <td>0</td>\n",
       "      <td>0</td>\n",
       "    </tr>\n",
       "    <tr>\n",
       "      <th>3999</th>\n",
       "      <td>0</td>\n",
       "      <td>0</td>\n",
       "    </tr>\n",
       "  </tbody>\n",
       "</table>\n",
       "<p>4000 rows × 2 columns</p>\n",
       "</div>"
      ],
      "text/plain": [
       "      Predicted  Actual\n",
       "0             1       1\n",
       "1             1       1\n",
       "2             1       1\n",
       "3             1       1\n",
       "4             1       1\n",
       "...         ...     ...\n",
       "3995          0       0\n",
       "3996          0       0\n",
       "3997          1       1\n",
       "3998          0       0\n",
       "3999          0       0\n",
       "\n",
       "[4000 rows x 2 columns]"
      ]
     },
     "execution_count": 32,
     "metadata": {},
     "output_type": "execute_result"
    }
   ],
   "source": [
    "testsamples = pd.DataFrame(testsamples, columns = [\"Predicted\", \"Actual\"])\n",
    "testsamples"
   ]
  },
  {
   "cell_type": "code",
   "execution_count": 42,
   "metadata": {},
   "outputs": [],
   "source": [
    "testsamples.to_csv(\"TestSamples.csv\", index = False)"
   ]
  },
  {
   "cell_type": "code",
   "execution_count": 34,
   "metadata": {},
   "outputs": [
    {
     "name": "stdout",
     "output_type": "stream",
     "text": [
      "0.9615\n"
     ]
    }
   ],
   "source": [
    "from sklearn.metrics import accuracy_score\n",
    "\n",
    "score = accuracy_score(testsamples[\"Actual\"], testsamples[\"Predicted\"])\n",
    "print(score)"
   ]
  },
  {
   "cell_type": "code",
   "execution_count": 37,
   "metadata": {},
   "outputs": [
    {
     "name": "stdout",
     "output_type": "stream",
     "text": [
      "Collecting matplotlib\n",
      "  Downloading matplotlib-3.8.2-cp311-cp311-win_amd64.whl (7.6 MB)\n",
      "     ---------------------------------------- 7.6/7.6 MB 22.3 MB/s eta 0:00:00\n",
      "Collecting contourpy>=1.0.1\n",
      "  Downloading contourpy-1.2.0-cp311-cp311-win_amd64.whl (187 kB)\n",
      "     ------------------------------------- 187.6/187.6 kB 11.1 MB/s eta 0:00:00\n",
      "Collecting cycler>=0.10\n",
      "  Downloading cycler-0.12.1-py3-none-any.whl (8.3 kB)\n",
      "Collecting fonttools>=4.22.0\n",
      "  Downloading fonttools-4.45.1-cp311-cp311-win_amd64.whl (2.2 MB)\n",
      "     ---------------------------------------- 2.2/2.2 MB 27.6 MB/s eta 0:00:00\n",
      "Collecting kiwisolver>=1.3.1\n",
      "  Downloading kiwisolver-1.4.5-cp311-cp311-win_amd64.whl (56 kB)\n",
      "     ---------------------------------------- 56.1/56.1 kB ? eta 0:00:00\n",
      "Requirement already satisfied: numpy<2,>=1.21 in c:\\users\\shara\\onedrive\\desktop\\aml\\im_resize\\.venv\\lib\\site-packages (from matplotlib) (1.26.2)\n",
      "Requirement already satisfied: packaging>=20.0 in c:\\users\\shara\\onedrive\\desktop\\aml\\im_resize\\.venv\\lib\\site-packages (from matplotlib) (23.2)\n",
      "Requirement already satisfied: pillow>=8 in c:\\users\\shara\\onedrive\\desktop\\aml\\im_resize\\.venv\\lib\\site-packages (from matplotlib) (10.1.0)\n",
      "Requirement already satisfied: pyparsing>=2.3.1 in c:\\users\\shara\\onedrive\\desktop\\aml\\im_resize\\.venv\\lib\\site-packages (from matplotlib) (3.1.1)\n",
      "Requirement already satisfied: python-dateutil>=2.7 in c:\\users\\shara\\onedrive\\desktop\\aml\\im_resize\\.venv\\lib\\site-packages (from matplotlib) (2.8.2)\n",
      "Requirement already satisfied: six>=1.5 in c:\\users\\shara\\onedrive\\desktop\\aml\\im_resize\\.venv\\lib\\site-packages (from python-dateutil>=2.7->matplotlib) (1.16.0)\n",
      "Installing collected packages: kiwisolver, fonttools, cycler, contourpy, matplotlib\n",
      "Successfully installed contourpy-1.2.0 cycler-0.12.1 fonttools-4.45.1 kiwisolver-1.4.5 matplotlib-3.8.2\n"
     ]
    },
    {
     "name": "stderr",
     "output_type": "stream",
     "text": [
      "\n",
      "[notice] A new release of pip available: 22.3.1 -> 23.3.1\n",
      "[notice] To update, run: python.exe -m pip install --upgrade pip\n"
     ]
    }
   ],
   "source": [
    "!pip install matplotlib"
   ]
  },
  {
   "cell_type": "code",
   "execution_count": 38,
   "metadata": {},
   "outputs": [],
   "source": [
    "from sklearn.metrics import roc_curve, roc_auc_score, auc\n",
    "import matplotlib.pyplot as plt"
   ]
  },
  {
   "cell_type": "code",
   "execution_count": 41,
   "metadata": {},
   "outputs": [
    {
     "name": "stderr",
     "output_type": "stream",
     "text": [
      "WARNING:matplotlib.legend:No artists with labels found to put in legend.  Note that artists whose label start with an underscore are ignored when legend() is called with no argument.\n"
     ]
    },
    {
     "data": {
      "image/png": "[encoded data removed]",
      "text/plain": [
       "<Figure size 640x480 with 1 Axes>"
      ]
     },
     "metadata": {},
     "output_type": "display_data"
    }
   ],
   "source": [
    "# Test Data\n",
    "fpr, tpr, _ = roc_curve(np.array(testsamples[\"Actual\"]).reshape(-1,1), np.array(testsamples[\"Predicted\"]).reshape(-1,1))\n",
    "roc_auc = auc(fpr, tpr)\n",
    "# roc_curves_test[classifier_names[i]] = (fpr, tpr)\n",
    "# auc_scores_test[classifier_names[i]] = roc_auc\n",
    "plt.plot(fpr, tpr)\n",
    "\n",
    "plt.legend(loc='lower right')\n",
    "plt.xlabel('False Positive Rate')\n",
    "plt.ylabel('True Positive Rate')\n",
    "\n",
    "plt.tight_layout()\n",
    "plt.show()"
   ]
  },
  {
   "cell_type": "code",
   "execution_count": 40,
   "metadata": {},
   "outputs": [
    {
     "name": "stdout",
     "output_type": "stream",
     "text": [
      "[0.    0.077 1.   ]\n"
     ]
    }
   ],
   "source": [
    "print(fpr)"
   ]
  },
  {
   "cell_type": "code",
   "execution_count": 50,
   "metadata": {},
   "outputs": [
    {
     "data": {
      "text/plain": [
       "dict_keys(['loss', 'Accuracy', 'val_loss', 'val_Accuracy'])"
      ]
     },
     "execution_count": 50,
     "metadata": {},
     "output_type": "execute_result"
    }
   ],
   "source": [
    "history.history.keys()"
   ]
  },
  {
   "cell_type": "code",
   "execution_count": 65,
   "metadata": {},
   "outputs": [
    {
     "data": {
      "text/plain": [
       "[0.8995833396911621,\n",
       " 0.9620833396911621,\n",
       " 0.9791666865348816,\n",
       " 0.9904166460037231,\n",
       " 0.9925000071525574,\n",
       " 0.9962499737739563,\n",
       " 0.9854166507720947,\n",
       " 0.9887499809265137,\n",
       " 0.98458331823349,\n",
       " 0.9670833349227905]"
      ]
     },
     "execution_count": 65,
     "metadata": {},
     "output_type": "execute_result"
    }
   ],
   "source": [
    "history.history[\"val_Accuracy\"]"
   ]
  },
  {
   "cell_type": "code",
   "execution_count": 56,
   "metadata": {},
   "outputs": [
    {
     "name": "stdout",
     "output_type": "stream",
     "text": [
      "Collecting seaborn\n",
      "  Downloading seaborn-0.13.0-py3-none-any.whl (294 kB)\n",
      "     -------------------------------------- 294.6/294.6 kB 9.2 MB/s eta 0:00:00\n",
      "Requirement already satisfied: numpy!=1.24.0,>=1.20 in c:\\users\\shara\\onedrive\\desktop\\aml\\im_resize\\.venv\\lib\\site-packages (from seaborn) (1.26.2)\n",
      "Requirement already satisfied: pandas>=1.2 in c:\\users\\shara\\onedrive\\desktop\\aml\\im_resize\\.venv\\lib\\site-packages (from seaborn) (2.1.3)\n",
      "Requirement already satisfied: matplotlib!=3.6.1,>=3.3 in c:\\users\\shara\\onedrive\\desktop\\aml\\im_resize\\.venv\\lib\\site-packages (from seaborn) (3.8.2)\n",
      "Requirement already satisfied: contourpy>=1.0.1 in c:\\users\\shara\\onedrive\\desktop\\aml\\im_resize\\.venv\\lib\\site-packages (from matplotlib!=3.6.1,>=3.3->seaborn) (1.2.0)\n",
      "Requirement already satisfied: cycler>=0.10 in c:\\users\\shara\\onedrive\\desktop\\aml\\im_resize\\.venv\\lib\\site-packages (from matplotlib!=3.6.1,>=3.3->seaborn) (0.12.1)\n",
      "Requirement already satisfied: fonttools>=4.22.0 in c:\\users\\shara\\onedrive\\desktop\\aml\\im_resize\\.venv\\lib\\site-packages (from matplotlib!=3.6.1,>=3.3->seaborn) (4.45.1)\n",
      "Requirement already satisfied: kiwisolver>=1.3.1 in c:\\users\\shara\\onedrive\\desktop\\aml\\im_resize\\.venv\\lib\\site-packages (from matplotlib!=3.6.1,>=3.3->seaborn) (1.4.5)\n",
      "Requirement already satisfied: packaging>=20.0 in c:\\users\\shara\\onedrive\\desktop\\aml\\im_resize\\.venv\\lib\\site-packages (from matplotlib!=3.6.1,>=3.3->seaborn) (23.2)\n",
      "Requirement already satisfied: pillow>=8 in c:\\users\\shara\\onedrive\\desktop\\aml\\im_resize\\.venv\\lib\\site-packages (from matplotlib!=3.6.1,>=3.3->seaborn) (10.1.0)\n",
      "Requirement already satisfied: pyparsing>=2.3.1 in c:\\users\\shara\\onedrive\\desktop\\aml\\im_resize\\.venv\\lib\\site-packages (from matplotlib!=3.6.1,>=3.3->seaborn) (3.1.1)\n",
      "Requirement already satisfied: python-dateutil>=2.7 in c:\\users\\shara\\onedrive\\desktop\\aml\\im_resize\\.venv\\lib\\site-packages (from matplotlib!=3.6.1,>=3.3->seaborn) (2.8.2)\n",
      "Requirement already satisfied: pytz>=2020.1 in c:\\users\\shara\\onedrive\\desktop\\aml\\im_resize\\.venv\\lib\\site-packages (from pandas>=1.2->seaborn) (2023.3.post1)\n",
      "Requirement already satisfied: tzdata>=2022.1 in c:\\users\\shara\\onedrive\\desktop\\aml\\im_resize\\.venv\\lib\\site-packages (from pandas>=1.2->seaborn) (2023.3)\n",
      "Requirement already satisfied: six>=1.5 in c:\\users\\shara\\onedrive\\desktop\\aml\\im_resize\\.venv\\lib\\site-packages (from python-dateutil>=2.7->matplotlib!=3.6.1,>=3.3->seaborn) (1.16.0)\n",
      "Installing collected packages: seaborn\n",
      "Successfully installed seaborn-0.13.0\n"
     ]
    },
    {
     "name": "stderr",
     "output_type": "stream",
     "text": [
      "\n",
      "[notice] A new release of pip available: 22.3.1 -> 23.3.1\n",
      "[notice] To update, run: python.exe -m pip install --upgrade pip\n"
     ]
    }
   ],
   "source": [
    "!pip install seaborn"
   ]
  },
  {
   "cell_type": "code",
   "execution_count": 57,
   "metadata": {},
   "outputs": [],
   "source": [
    "from sklearn.metrics import confusion_matrix\n",
    "import seaborn as sns"
   ]
  },
  {
   "cell_type": "code",
   "execution_count": 58,
   "metadata": {},
   "outputs": [
    {
     "data": {
      "image/png": "[encoded data removed]",
      "text/plain": [
       "<Figure size 640x480 with 2 Axes>"
      ]
     },
     "metadata": {},
     "output_type": "display_data"
    }
   ],
   "source": [
    "conf_mat = confusion_matrix(testsamples[\"Actual\"], testsamples[\"Predicted\"])\n",
    "# Plot confusion matrix as a heatmap\n",
    "sns.heatmap(conf_mat, annot=True, fmt='d', cmap='Blues', \n",
    "            xticklabels=['Class 0', 'Class 1'], yticklabels=['Class 0', 'Class 1'])\n",
    "\n",
    "# Add labels and title\n",
    "plt.xlabel('Predicted')\n",
    "plt.ylabel('True')\n",
    "plt.title('Confusion Matrix Heatmap')\n",
    "\n",
    "# Show plot\n",
    "plt.show()"
   ]
  },
  {
   "cell_type": "code",
   "execution_count": 76,
   "metadata": {},
   "outputs": [
    {
     "data": {
      "image/png": "[encoded data removed]",
      "text/plain": [
       "<Figure size 800x500 with 1 Axes>"
      ]
     },
     "metadata": {},
     "output_type": "display_data"
    }
   ],
   "source": [
    "eps = [1,2,3,4,5,6,7,8,9,10]\n",
    "\n",
    "sns.set(style=\"darkgrid\", palette=\"Blues_d\")\n",
    "plt.figure(figsize=(8, 5))\n",
    "sns.lineplot(x=eps, y= history.history[\"val_Accuracy\"], label='Validation Accuracy', marker = \"o\")\n",
    "sns.lineplot(x=eps, y=history.history[\"Accuracy\"], label='Train Accuracy', marker = \"o\")\n",
    "\n",
    "# Add labels and title\n",
    "plt.xlabel('X-axis Label')\n",
    "plt.ylabel('Y-axis Label')\n",
    "plt.title('Seaborn Plot of Two Y Values')\n",
    "\n",
    "# Show legend\n",
    "plt.legend()\n",
    "\n",
    "# Show the plot\n",
    "plt.show()"
   ]
  }
 ],
 "metadata": {
  "kernelspec": {
   "display_name": "Python 3",
   "language": "python",
   "name": "python3"
  },
  "language_info": {
   "codemirror_mode": {
    "name": "ipython",
    "version": 3
   },
   "file_extension": ".py",
   "mimetype": "text/x-python",
   "name": "python",
   "nbconvert_exporter": "python",
   "pygments_lexer": "ipython3",
   "version": "3.11.1"
  }
 },
 "nbformat": 4,
 "nbformat_minor": 2
}
